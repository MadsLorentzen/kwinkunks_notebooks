{
 "metadata": {
  "name": "",
  "signature": "sha256:bef7376d301daf059afb2309e0a33c263c18e1895b3d9373b6a69da69653b1ad"
 },
 "nbformat": 3,
 "nbformat_minor": 0,
 "worksheets": [
  {
   "cells": [
    {
     "cell_type": "markdown",
     "metadata": {},
     "source": [
      "# Parallel play\n",
      "\n",
      "Been wanting to try something... anything... parallel for a while. Let's give it a go. \n",
      "\n",
      "I'm going on [this blog post](http://blog.dominodatalab.com/simple-parallelization/)."
     ]
    },
    {
     "cell_type": "code",
     "collapsed": false,
     "input": [
      "import numpy as np"
     ],
     "language": "python",
     "metadata": {},
     "outputs": [],
     "prompt_number": 1
    },
    {
     "cell_type": "code",
     "collapsed": false,
     "input": [
      "import multiprocessing as mp"
     ],
     "language": "python",
     "metadata": {},
     "outputs": [],
     "prompt_number": 2
    },
    {
     "cell_type": "code",
     "collapsed": false,
     "input": [
      "from joblib import Parallel, delayed"
     ],
     "language": "python",
     "metadata": {},
     "outputs": [],
     "prompt_number": 3
    },
    {
     "cell_type": "heading",
     "level": 2,
     "metadata": {},
     "source": [
      "Easy loop"
     ]
    },
    {
     "cell_type": "code",
     "collapsed": false,
     "input": [
      "def function(i):  \n",
      "    return i * i + np.e**(i/np.pi)"
     ],
     "language": "python",
     "metadata": {},
     "outputs": [],
     "prompt_number": 4
    },
    {
     "cell_type": "code",
     "collapsed": false,
     "input": [
      "def single(n):\n",
      "    inputs = range(n)\n",
      "    return [function(i) for i in inputs]"
     ],
     "language": "python",
     "metadata": {},
     "outputs": [],
     "prompt_number": 5
    },
    {
     "cell_type": "code",
     "collapsed": false,
     "input": [
      "num_cores = mp.cpu_count()\n",
      "def multi(n):\n",
      "    inputs = range(n)\n",
      "    return Parallel(n_jobs=num_cores)(delayed(function)(i) for i in inputs)"
     ],
     "language": "python",
     "metadata": {},
     "outputs": [],
     "prompt_number": 6
    },
    {
     "cell_type": "code",
     "collapsed": false,
     "input": [
      "%timeit single(100)"
     ],
     "language": "python",
     "metadata": {},
     "outputs": [
      {
       "output_type": "stream",
       "stream": "stdout",
       "text": [
        "10000 loops, best of 3: 42.5 \u00b5s per loop\n"
       ]
      }
     ],
     "prompt_number": 7
    },
    {
     "cell_type": "code",
     "collapsed": false,
     "input": [
      "%timeit multi(100)"
     ],
     "language": "python",
     "metadata": {},
     "outputs": [
      {
       "output_type": "stream",
       "stream": "stdout",
       "text": [
        "10 loops, best of 3: 127 ms per loop\n"
       ]
      }
     ],
     "prompt_number": 8
    },
    {
     "cell_type": "markdown",
     "metadata": {},
     "source": [
      "It worked! But the single-core code is faster, which is a bit underwhelming. Let's try something a bit harder."
     ]
    },
    {
     "cell_type": "heading",
     "level": 2,
     "metadata": {},
     "source": [
      "Hard loop"
     ]
    },
    {
     "cell_type": "code",
     "collapsed": false,
     "input": [
      "from scipy.signal import ricker"
     ],
     "language": "python",
     "metadata": {},
     "outputs": [],
     "prompt_number": 9
    },
    {
     "cell_type": "markdown",
     "metadata": {},
     "source": [
      "Make a more involved function... "
     ]
    },
    {
     "cell_type": "code",
     "collapsed": false,
     "input": [
      "def conv(n):\n",
      "    n = (n+2) * 100\n",
      "    w = ricker(128, 200)\n",
      "    r = np.random.random((n, n)) - 0.5\n",
      "    s = np.empty_like(r)\n",
      "    for i in range(n):\n",
      "        s[i] = np.convolve(r[i], w, mode='same')\n",
      "    return s"
     ],
     "language": "python",
     "metadata": {},
     "outputs": [],
     "prompt_number": 10
    },
    {
     "cell_type": "markdown",
     "metadata": {},
     "source": [
      "Redefine what `function` does:"
     ]
    },
    {
     "cell_type": "code",
     "collapsed": false,
     "input": [
      "def function(i):  \n",
      "    return conv(i)"
     ],
     "language": "python",
     "metadata": {},
     "outputs": [],
     "prompt_number": 11
    },
    {
     "cell_type": "code",
     "collapsed": false,
     "input": [
      "%timeit single(20)"
     ],
     "language": "python",
     "metadata": {},
     "outputs": [
      {
       "output_type": "stream",
       "stream": "stdout",
       "text": [
        "1 loops, best of 3: 2.02 s per loop\n"
       ]
      }
     ],
     "prompt_number": 12
    },
    {
     "cell_type": "code",
     "collapsed": false,
     "input": [
      "%timeit multi(20)"
     ],
     "language": "python",
     "metadata": {},
     "outputs": [
      {
       "output_type": "stream",
       "stream": "stdout",
       "text": [
        "1 loops, best of 3: 1.32 s per loop\n"
       ]
      }
     ],
     "prompt_number": 13
    },
    {
     "cell_type": "markdown",
     "metadata": {},
     "source": [
      "OK, that's more like it. Let's plot the advantage."
     ]
    },
    {
     "cell_type": "heading",
     "level": 2,
     "metadata": {},
     "source": [
      "Plot the advantage"
     ]
    },
    {
     "cell_type": "markdown",
     "metadata": {},
     "source": [
      "The usual plotting prelims... "
     ]
    },
    {
     "cell_type": "code",
     "collapsed": false,
     "input": [
      "import matplotlib.pyplot as plt\n",
      "%matplotlib inline"
     ],
     "language": "python",
     "metadata": {},
     "outputs": [],
     "prompt_number": 14
    },
    {
     "cell_type": "markdown",
     "metadata": {},
     "source": [
      "...and we can't use the magic word now, we'll need to use `timeit` directly. "
     ]
    },
    {
     "cell_type": "code",
     "collapsed": false,
     "input": [
      "import timeit"
     ],
     "language": "python",
     "metadata": {},
     "outputs": [],
     "prompt_number": 15
    },
    {
     "cell_type": "markdown",
     "metadata": {},
     "source": [
      "We can only call `timeit` on a function with no arguments, so since we'd like to pass in the number of loops for our job (well, we don't have to I guess), we need a wrapper function. "
     ]
    },
    {
     "cell_type": "code",
     "collapsed": false,
     "input": [
      "def wrapper(func, *args, **kwargs):\n",
      "    def wrapped():\n",
      "        return func(*args, **kwargs)\n",
      "    return wrapped"
     ],
     "language": "python",
     "metadata": {},
     "outputs": [],
     "prompt_number": 16
    },
    {
     "cell_type": "markdown",
     "metadata": {},
     "source": [
      "Test it works by timing 100 loops and reporting the time (divided by 100, for a per-loop time). "
     ]
    },
    {
     "cell_type": "code",
     "collapsed": false,
     "input": [
      "wrapped = wrapper(single, 5)\n",
      "timeit.timeit(stmt=wrapped, number=100)/100."
     ],
     "language": "python",
     "metadata": {},
     "outputs": [
      {
       "metadata": {},
       "output_type": "pyout",
       "prompt_number": 17,
       "text": [
        "0.06280872821807862"
       ]
      }
     ],
     "prompt_number": 17
    },
    {
     "cell_type": "markdown",
     "metadata": {},
     "source": [
      "It works! Now we can try it for real. "
     ]
    },
    {
     "cell_type": "markdown",
     "metadata": {},
     "source": [
      "**WARNING** This takes about 10 minutes on my 2012 iMac with 8 cores. "
     ]
    },
    {
     "cell_type": "code",
     "collapsed": false,
     "input": [
      "singles, multis = [], []\n",
      "\n",
      "for i in range(25):\n",
      "    wrapped = wrapper(single, i)\n",
      "    singles.append(timeit.timeit(wrapped, number=10)/10.)\n",
      "    wrapped = wrapper(multi, i)\n",
      "    multis.append(timeit.timeit(wrapped, number=10)/10.)"
     ],
     "language": "python",
     "metadata": {},
     "outputs": [],
     "prompt_number": 18
    },
    {
     "cell_type": "code",
     "collapsed": false,
     "input": [
      "plt.figure(figsize=(12,6))\n",
      "plt.plot(singles, marker='.', label='single')\n",
      "plt.plot(multis, marker='.', label='multi')\n",
      "plt.legend(loc=4)\n",
      "plt.xlabel('size of job (length of signals to convolve)')\n",
      "plt.ylabel('seconds for one iteration')\n",
      "plt.show()"
     ],
     "language": "python",
     "metadata": {},
     "outputs": [
      {
       "metadata": {},
       "output_type": "display_data",
       "png": "[encoded data removed]",
       "text": [
        "<matplotlib.figure.Figure at 0x10baab110>"
       ]
      }
     ],
     "prompt_number": 19
    },
    {
     "cell_type": "markdown",
     "metadata": {},
     "source": [
      "Let's plot the fraction of time taken by parallel version."
     ]
    },
    {
     "cell_type": "code",
     "collapsed": false,
     "input": [
      "plt.figure(figsize=(12,12))\n",
      "ratio = np.array(multis)/np.array(singles)\n",
      "plt.semilogy(ratio[:], marker='.')\n",
      "plt.axhline(1, color='k', alpha=0.3)\n",
      "plt.text(0.5, 1.15, 'SINGLE IS FASTER')\n",
      "plt.text(0.5, 0.70, 'MULTI IS FASTER')\n",
      "plt.plot()\n",
      "print \"Fastest in this test: {0:.1f}% of single-processor time\".format(100*multis[-1]/singles[-1])"
     ],
     "language": "python",
     "metadata": {},
     "outputs": [
      {
       "output_type": "stream",
       "stream": "stdout",
       "text": [
        "Fastest in this test: 66.4% of single-processor time\n"
       ]
      },
      {
       "metadata": {},
       "output_type": "display_data",
       "png": "[encoded data removed]",
       "text": [
        "<matplotlib.figure.Figure at 0x10c7ea8d0>"
       ]
      }
     ],
     "prompt_number": 20
    },
    {
     "cell_type": "code",
     "collapsed": false,
     "input": [],
     "language": "python",
     "metadata": {},
     "outputs": []
    }
   ],
   "metadata": {}
  }
 ]
}