{
 "cells": [
  {
   "cell_type": "markdown",
   "metadata": {},
   "source": [
    "You will need to generate a private key at Mashape, then you can use it here."
   ]
  },
  {
   "cell_type": "code",
   "execution_count": 1,
   "metadata": {
    "collapsed": false
   },
   "outputs": [],
   "source": [
    "# I keep mine in another file, which is not sent to GitHub\n",
    "# Or put yours in the string 'key' below\n",
    "try:\n",
    "    from secrets import mashape as key\n",
    "except ImportError as e:\n",
    "    key = \" KEY GOES HERE \""
   ]
  },
  {
   "cell_type": "markdown",
   "metadata": {
    "collapsed": true
   },
   "source": [
    "## Face recognition\n",
    "\n",
    "Face++ has a comprehensive API, some of which is free. [Their site](http://www.faceplusplus.com/) allows you to build apps to do all kinds of clever things.\n",
    "\n",
    "Let's try a simple detection on this face...\n",
    "\n",
    "<img src=\"http://csegrecorder.com/assets/images/interviews/2013-10-Evan_Bianco.jpg\" width=\"400px\" />"
   ]
  },
  {
   "cell_type": "code",
   "execution_count": 2,
   "metadata": {
    "collapsed": false
   },
   "outputs": [
    {
     "ename": "NameError",
     "evalue": "name 'unirest' is not defined",
     "output_type": "error",
     "traceback": [
      "\u001b[0;31m---------------------------------------------------------------------------\u001b[0m",
      "\u001b[0;31mNameError\u001b[0m                                 Traceback (most recent call last)",
      "\u001b[0;32m<ipython-input-2-14ea1284d051>\u001b[0m in \u001b[0;36m<module>\u001b[0;34m()\u001b[0m\n\u001b[1;32m     14\u001b[0m \u001b[0;31m# Can also pass 'all' for all, or omit for age, gender, race, and smiling.\u001b[0m\u001b[0;34m\u001b[0m\u001b[0;34m\u001b[0m\u001b[0m\n\u001b[1;32m     15\u001b[0m \u001b[0;34m\u001b[0m\u001b[0m\n\u001b[0;32m---> 16\u001b[0;31m \u001b[0mresponse\u001b[0m \u001b[0;34m=\u001b[0m \u001b[0munirest\u001b[0m\u001b[0;34m.\u001b[0m\u001b[0mpost\u001b[0m\u001b[0;34m(\u001b[0m\u001b[0murl\u001b[0m\u001b[0;34m,\u001b[0m \u001b[0mheaders\u001b[0m\u001b[0;34m=\u001b[0m\u001b[0mheaders\u001b[0m\u001b[0;34m,\u001b[0m \u001b[0mparams\u001b[0m\u001b[0;34m=\u001b[0m\u001b[0mparams\u001b[0m\u001b[0;34m)\u001b[0m\u001b[0;34m\u001b[0m\u001b[0m\n\u001b[0m\u001b[1;32m     17\u001b[0m \u001b[0mresponse\u001b[0m\u001b[0;34m.\u001b[0m\u001b[0mbody\u001b[0m\u001b[0;34m\u001b[0m\u001b[0m\n",
      "\u001b[0;31mNameError\u001b[0m: name 'unirest' is not defined"
     ]
    }
   ],
   "source": [
    "url = \"https://faceplusplus-faceplusplus.p.mashape.com/detection/detect\"\n",
    "target = \"http://csegrecorder.com/assets/images/interviews/2013-10-Evan_Bianco.jpg\"\n",
    "params = {'url': target,\n",
    "          'attribute': 'age,glass,gender,pose,race,smiling',  # optional\n",
    "         }\n",
    "headers={\n",
    "    \"X-Mashape-Key\": key,\n",
    "    \"Accept\": \"application/json\"\n",
    "  }\n",
    "\n",
    "# attribute\n",
    "# Pass optional parameter 'attribute' to ask for age, gender, race, pose,\n",
    "# glass, smiling. 'Glass' is whether the subject is wearing glasses.\n",
    "# Can also pass 'all' for all, or omit for age, gender, race, and smiling.\n",
    "\n",
    "response = unirest.post(url, headers=headers, params=params)\n",
    "response.body"
   ]
  },
  {
   "cell_type": "markdown",
   "metadata": {},
   "source": [
    "<img src=\"https://media.licdn.com/mpr/mpr/shrinknp_400_400/p/4/005/074/166/32433e7.jpg\" />"
   ]
  },
  {
   "cell_type": "code",
   "execution_count": 10,
   "metadata": {
    "collapsed": false
   },
   "outputs": [
    {
     "data": {
      "text/plain": [
       "{u'face': [{u'attribute': {u'age': {u'range': 8, u'value': 31},\n",
       "    u'gender': {u'confidence': 99.9627, u'value': u'Male'},\n",
       "    u'glass': {u'confidence': 99.0951, u'value': u'Normal'},\n",
       "    u'pose': {u'pitch_angle': {u'value': -0.001311},\n",
       "     u'roll_angle': {u'value': -15.8251},\n",
       "     u'yaw_angle': {u'value': 29.297885}},\n",
       "    u'race': {u'confidence': 99.11149999999999, u'value': u'White'},\n",
       "    u'smiling': {u'value': 82.434}},\n",
       "   u'face_id': u'6c3728b55900c937ced24b6f6997f47d',\n",
       "   u'position': {u'center': {u'x': 62.664908, u'y': 42.612137},\n",
       "    u'eye_left': {u'x': 54.819789, u'y': 37.731135},\n",
       "    u'eye_right': {u'x': 67.791557, u'y': 34.054354},\n",
       "    u'height': 31.926121,\n",
       "    u'mouth_left': {u'x': 54.391029, u'y': 52.41029},\n",
       "    u'mouth_right': {u'x': 70.550132, u'y': 48.505805},\n",
       "    u'nose': {u'x': 67.058575, u'y': 44.52058},\n",
       "    u'width': 31.926121},\n",
       "   u'tag': u''}],\n",
       " u'img_height': 379,\n",
       " u'img_id': u'e415327478fedf86228e3ebf0a172e58',\n",
       " u'img_width': 379,\n",
       " u'session_id': u'c0c93bdc98944288a604f2768e68a554',\n",
       " u'url': u'https://media.licdn.com/mpr/mpr/shrinknp_400_400/p/4/005/074/166/32433e7.jpg'}"
      ]
     },
     "execution_count": 10,
     "metadata": {},
     "output_type": "execute_result"
    }
   ],
   "source": [
    "target = \"https://media.licdn.com/mpr/mpr/shrinknp_400_400/p/4/005/074/166/32433e7.jpg\"\n",
    "params = {'url': target,\n",
    "          'attribute': 'age,glass,gender,pose,race,smiling',  # optional\n",
    "         }\n",
    "\n",
    "response = unirest.post(url, headers=headers, params=params)\n",
    "response.body"
   ]
  },
  {
   "cell_type": "markdown",
   "metadata": {},
   "source": [
    "<img src=\"http://i.telegraph.co.uk/multimedia/archive/02788/couple_2788635b.jpg\" />"
   ]
  },
  {
   "cell_type": "code",
   "execution_count": 14,
   "metadata": {
    "collapsed": false
   },
   "outputs": [
    {
     "data": {
      "text/plain": [
       "{u'face': [{u'attribute': {u'age': {u'range': 7, u'value': 39},\n",
       "    u'gender': {u'confidence': 99.932, u'value': u'Male'},\n",
       "    u'race': {u'confidence': 89.443, u'value': u'Asian'},\n",
       "    u'smiling': {u'value': 19.8494}},\n",
       "   u'face_id': u'271f26019f0e342d5d84b3c7df3cb14a',\n",
       "   u'position': {u'center': {u'x': 58.583333, u'y': 20.989305},\n",
       "    u'eye_left': {u'x': 56.209833, u'y': 17.985241},\n",
       "    u'eye_right': {u'x': 60.984667, u'y': 16.166925},\n",
       "    u'height': 19.518717,\n",
       "    u'mouth_left': {u'x': 57.135333, u'y': 27.621658},\n",
       "    u'mouth_right': {u'x': 62.063833, u'y': 26.189225},\n",
       "    u'nose': {u'x': 57.036333, u'y': 23.090455},\n",
       "    u'width': 12.166667},\n",
       "   u'tag': u''},\n",
       "  {u'attribute': {u'age': {u'range': 9, u'value': 31},\n",
       "    u'gender': {u'confidence': 78.3792, u'value': u'Female'},\n",
       "    u'race': {u'confidence': 99.7239, u'value': u'White'},\n",
       "    u'smiling': {u'value': 34.9148}},\n",
       "   u'face_id': u'd2d07e21551b19e1e062928d1b95e58a',\n",
       "   u'position': {u'center': {u'x': 45.75, u'y': 34.358289},\n",
       "    u'eye_left': {u'x': 43.023833, u'y': 31.233422},\n",
       "    u'eye_right': {u'x': 47.3265, u'y': 30.012299},\n",
       "    u'height': 15.775401,\n",
       "    u'mouth_left': {u'x': 43.474, u'y': 40.60107},\n",
       "    u'mouth_right': {u'x': 48.150333, u'y': 39.468182},\n",
       "    u'nose': {u'x': 42.8335, u'y': 35.207487},\n",
       "    u'width': 9.833333},\n",
       "   u'tag': u''}],\n",
       " u'img_height': 387,\n",
       " u'img_id': u'524305ff333db315e583a4bdb5d03d0d',\n",
       " u'img_width': 620,\n",
       " u'session_id': u'928365a231974ae1a87ab51ca2066700',\n",
       " u'url': u'http://i.telegraph.co.uk/multimedia/archive/02788/couple_2788635b.jpg'}"
      ]
     },
     "execution_count": 14,
     "metadata": {},
     "output_type": "execute_result"
    }
   ],
   "source": [
    "target = \"http://i.telegraph.co.uk/multimedia/archive/02788/couple_2788635b.jpg\"\n",
    "params = {'url': target}\n",
    "response = unirest.post(url, headers=headers, params=params)\n",
    "response.body"
   ]
  },
  {
   "cell_type": "markdown",
   "metadata": {
    "collapsed": true
   },
   "source": [
    "## Daydreaming\n",
    "\n",
    "This is completely made up.\n",
    "\n",
    "<!--\n",
    "Here's the reault I want:\n",
    "\n",
    "\"\"\"\n",
    "{u'seismic': [{u'attribute': {u'f_peak': {u'range': 7, u'value': 39},\n",
    "    u'wavelet': {u'confidence': 89.932, u'value': u'ricker'},\n",
    "    u'phase': {u'error': 12.23421, u'value': 1.73568},\n",
    "    u'fresnel': {u'error': 400, u'value': 1750},\n",
    "    u'colourbar': {u'confidence': 98.53456, u'value': u'black-red'}},\n",
    "    u'facies': [{u'center': {u'x': 58.583333, u'y': 20.989305},\n",
    "      u'name': 'parallel',\n",
    "      u'confidence': 76.45311},\n",
    "    {u'center': {u'x': 213.556323, u'y': 202.234543},\n",
    "      u'name': 'mounded',\n",
    "      u'confidence': 67.3253245},\n",
    "    {u'center': {u'x': 458.346354, u'y': 120.345636},\n",
    "      u'name': 'noisy',\n",
    "      u'confidence': 54.353466}],\n",
    " u'img_height': 387,\n",
    " u'img_id': u'524305ff333db315e583a4bdb5d03d0d',\n",
    " u'img_width': 620,\n",
    " u'session_id': u'928365a231974ae1a87ab51ca2066700',\n",
    " u'url': u'https://dl.dropboxusercontent.com/u/14965965/seismic_example.png'}\n",
    " \"\"\"\n",
    " -->\n",
    "\n",
    "<img src=\"https://dl.dropboxusercontent.com/u/14965965/seismic_example.png\" />"
   ]
  },
  {
   "cell_type": "code",
   "execution_count": 18,
   "metadata": {
    "collapsed": false
   },
   "outputs": [
    {
     "name": "stdout",
     "output_type": "stream",
     "text": [
      "\n",
      "{u'seismic': [{u'attribute': {u'f_peak': {u'range': 7, u'value': 39},\n",
      "    u'wavelet': {u'confidence': 89.932, u'value': u'ricker'},\n",
      "    u'phase': {u'error': 12.23421, u'value': 1.73568},\n",
      "    u'fresnel': {u'error': 400, u'value': 1750},\n",
      "    u'colourbar': {u'confidence': 98.53456, u'value': u'black-red'}},\n",
      "    u'facies': [{u'center': {u'x': 58.583333, u'y': 20.989305},\n",
      "      u'name': 'parallel',\n",
      "      u'confidence': 76.45311},\n",
      "    {u'center': {u'x': 213.556323, u'y': 202.234543},\n",
      "      u'name': 'mounded',\n",
      "      u'confidence': 67.3253245},\n",
      "    {u'center': {u'x': 458.346354, u'y': 120.345636},\n",
      "      u'name': 'noisy',\n",
      "      u'confidence': 54.353466}],\n",
      " u'img_height': 387,\n",
      " u'img_id': u'524305ff333db315e583a4bdb5d03d0d',\n",
      " u'img_width': 620,\n",
      " u'session_id': u'928365a231974ae1a87ab51ca2066700',\n",
      " u'url': u'https://dl.dropboxusercontent.com/u/14965965/seismic_example.png'}\n",
      " \n"
     ]
    }
   ],
   "source": [
    "# Don't execute this cell.\n",
    "url = \"https://imageclass.io/classify/seismic.json\"\n",
    "target = \"https://dl.dropboxusercontent.com/u/14965965/seismic_example.png\"\n",
    "params = {'url': target,\n",
    "          'time': '600,1600',    # time range in ms\n",
    "          'trace': '1000,1400',  # trace range\n",
    "          'dx': '25',            # trace spacing in m\n",
    "          'attribute': 'frequency,facies,resolution',  # optional\n",
    "         }\n",
    "headers={\n",
    "    \"API_key\": key,\n",
    "    \"Accept\": \"application/json\"\n",
    "  }\n",
    "\n",
    "response = unirest.post(url, headers=headers, params=params)\n",
    "response.body"
   ]
  },
  {
   "cell_type": "markdown",
   "metadata": {
    "collapsed": true
   },
   "source": [
    "##For realz\n",
    "\n",
    "I found [some code](https://gist.github.com/endolith/255291) by *[endolith](https://github.com/endolith)* to do frequency estimation.\n",
    "\n",
    "I got it working for seismic stuff in another notebook, [Frequency_from_image](./Frequency_from_image.ipynb). Then I set up a `Flask` app on [PythonAnywhere](https://www.pythonanywhere.com), which was surprisingly easy. It's serving at http://kwinkunks.pythonanywhere.com.\n",
    "\n",
    "It's headless — it only accepts API calls. See below for an example.\n",
    "\n",
    "Let's get the frequency content of the seismic in [this image](https://math.berkeley.edu/~sethian/2006/Applications/Seismic/time_mig_img.jpg). I have already measured the pixel positions of region of the image that I want, in the time range 0 to 3 s, and the *x* range 8 to 16 km.\n",
    "\n",
    "<img src=\"https://math.berkeley.edu/~sethian/2006/Applications/Seismic/time_mig_img.jpg\" WIDTH=\"500px\"/>"
   ]
  },
  {
   "cell_type": "code",
   "execution_count": 11,
   "metadata": {
    "collapsed": false
   },
   "outputs": [
    {
     "data": {
      "text/plain": [
       "{'parameters': {'avg': 'trim',\n",
       "  'method': 'xing',\n",
       "  'region': '199,141,1608,1087',\n",
       "  'url': 'https://math.berkeley.edu/~sethian/2006/Applications/Seismic/time_mig_img.jpg'},\n",
       " 'result': {'freq': {'avg': 20.55502798329521, 'sd': 1.1240551094088058},\n",
       "  'greyscale': True,\n",
       "  'img_height': 1409,\n",
       "  'img_width': 946,\n",
       "  'time range': [0.0, 3.0]}}"
      ]
     },
     "execution_count": 11,
     "metadata": {},
     "output_type": "execute_result"
    }
   ],
   "source": [
    "import requests\n",
    "\n",
    "url = \"http://kwinkunks.pythonanywhere.com/freq\"\n",
    "target = \"https://math.berkeley.edu/~sethian/2006/Applications/Seismic/time_mig_img.jpg\"\n",
    "params = {'url': target,\n",
    "          'method': 'xing',\n",
    "          'tmin': 0.0,\n",
    "          'tmax': 3.0,\n",
    "          'region': '199,141,1608,1087',\n",
    "          'avg': 'trim'\n",
    "         }\n",
    "headers={\n",
    "    \"Accept\": \"application/json\"\n",
    "  }\n",
    "\n",
    "response = requests.get(url, headers=headers, params=params)\n",
    "response.json()"
   ]
  },
  {
   "cell_type": "code",
   "execution_count": null,
   "metadata": {
    "collapsed": true
   },
   "outputs": [],
   "source": []
  }
 ],
 "metadata": {
  "kernelspec": {
   "display_name": "Python 3",
   "language": "python",
   "name": "python3"
  },
  "language_info": {
   "codemirror_mode": {
    "name": "ipython",
    "version": 3
   },
   "file_extension": ".py",
   "mimetype": "text/x-python",
   "name": "python",
   "nbconvert_exporter": "python",
   "pygments_lexer": "ipython3",
   "version": "3.4.3"
  }
 },
 "nbformat": 4,
 "nbformat_minor": 0
}
