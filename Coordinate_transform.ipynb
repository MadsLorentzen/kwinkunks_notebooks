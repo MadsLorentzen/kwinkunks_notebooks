{
 "cells": [
  {
   "cell_type": "markdown",
   "metadata": {},
   "source": [
    "## Converting coordinates between projections"
   ]
  },
  {
   "cell_type": "markdown",
   "metadata": {},
   "source": [
    "This is a follow up to [a question](https://www.linkedin.com/grp/post/3985504-6006363602393530370) from Chris Jackson (Imperial) on LinkedIn. \n",
    "\n",
    "Here are the coordinates we have, UTM zone 16, WGS84 datum:"
   ]
  },
  {
   "cell_type": "code",
   "execution_count": 1,
   "metadata": {
    "collapsed": true
   },
   "outputs": [],
   "source": [
    "x = 812136.38\n",
    "y = 10151410.68"
   ]
  },
  {
   "cell_type": "markdown",
   "metadata": {},
   "source": [
    "Those look like they are in feet. Let's convert them:"
   ]
  },
  {
   "cell_type": "code",
   "execution_count": 2,
   "metadata": {
    "collapsed": false
   },
   "outputs": [
    {
     "data": {
      "text/plain": [
       "(247539.168624, 3094149.9752640002)"
      ]
     },
     "execution_count": 2,
     "metadata": {},
     "output_type": "execute_result"
    }
   ],
   "source": [
    "x *= 0.3048\n",
    "y *= 0.3048\n",
    "x, y"
   ]
  },
  {
   "cell_type": "markdown",
   "metadata": {},
   "source": [
    "We will use the [`pyproj`](https://pypi.python.org/pypi/pyproj) project. "
   ]
  },
  {
   "cell_type": "code",
   "execution_count": 3,
   "metadata": {
    "collapsed": true
   },
   "outputs": [],
   "source": [
    "import pyproj as pp"
   ]
  },
  {
   "cell_type": "markdown",
   "metadata": {},
   "source": [
    "Set up the projections using [EPSG codes](http://spatialreference.org/) (we'll define the target projection too while we're at it)."
   ]
  },
  {
   "cell_type": "code",
   "execution_count": 5,
   "metadata": {
    "collapsed": false
   },
   "outputs": [],
   "source": [
    "utm15_wgs84 = pp.Proj(init='epsg:32615') \n",
    "utm16_wgs84 = pp.Proj(init='epsg:32616')\n",
    "\n",
    "utm15_nad27 = pp.Proj(init='epsg:26715')\n",
    "utm16_nad27 = pp.Proj(init='epsg:26716')"
   ]
  },
  {
   "cell_type": "markdown",
   "metadata": {},
   "source": [
    "Let's just check where we are with a quick map:"
   ]
  },
  {
   "cell_type": "code",
   "execution_count": null,
   "metadata": {
    "collapsed": false
   },
   "outputs": [],
   "source": [
    "from mpl_toolkits.basemap import Basemap\n",
    "import matplotlib.pyplot as plt\n",
    "% matplotlib inline"
   ]
  },
  {
   "cell_type": "code",
   "execution_count": null,
   "metadata": {
    "collapsed": false
   },
   "outputs": [],
   "source": [
    "m = Basemap(width=6000000,height=6000000,projection='lcc',\n",
    "            resolution='c',\n",
    "            lat_1=45,\n",
    "            lat_2=55,\n",
    "            lat_0=50,\n",
    "            lon_0=-100.)\n",
    "\n",
    "# Set up the map. \n",
    "m.drawcoastlines()\n",
    "m.drawmapboundary(fill_color='#aaccee')\n",
    "m.fillcontinents(color='#aaddaa',lake_color='#aaccee')\n",
    "\n",
    "lon, lat = utm16_wgs84(x, y, inverse=True)  # To convert to lon, lat\n",
    "map_x, map_y = m(lon, lat)\n",
    "m.scatter(map_x, map_y, 12, marker='o', color='red')\n",
    "\n",
    "plt.show()"
   ]
  },
  {
   "cell_type": "markdown",
   "metadata": {},
   "source": [
    "## Coordinate transformation"
   ]
  },
  {
   "cell_type": "markdown",
   "metadata": {},
   "source": [
    "Looks reasonable, let's do the transformation..."
   ]
  },
  {
   "cell_type": "code",
   "execution_count": 7,
   "metadata": {
    "collapsed": true
   },
   "outputs": [],
   "source": [
    "new_coords = pp.transform(utm16_nad27,  # From\n",
    "                          utm15_wgs84,  # To\n",
    "                          x, y)         # Coordinates"
   ]
  },
  {
   "cell_type": "code",
   "execution_count": 8,
   "metadata": {
    "collapsed": false
   },
   "outputs": [
    {
     "data": {
      "text/plain": [
       "(837908.3773402066, 3096449.471380619)"
      ]
     },
     "execution_count": 8,
     "metadata": {},
     "output_type": "execute_result"
    }
   ],
   "source": [
    "new_coords  # These are in metres!"
   ]
  },
  {
   "cell_type": "markdown",
   "metadata": {},
   "source": [
    "Sanity check with another map:"
   ]
  },
  {
   "cell_type": "code",
   "execution_count": null,
   "metadata": {
    "collapsed": false
   },
   "outputs": [],
   "source": [
    "m = Basemap(width=6000000,height=6000000,projection='lcc',\n",
    "            resolution='c',\n",
    "            lat_1=45,\n",
    "            lat_2=55,\n",
    "            lat_0=50,\n",
    "            lon_0=-100.)\n",
    "\n",
    "# Set up the map. \n",
    "m.drawcoastlines()\n",
    "m.drawmapboundary(fill_color='#aaccee')\n",
    "m.fillcontinents(color='#aaddaa',lake_color='#aaccee')\n",
    "\n",
    "new_x, new_y = new_coords\n",
    "new_lon, new_lat = utm15_nad27(new_x, new_y, inverse=True)  # To convert to lon, lat\n",
    "new_map_x, new_map_y = m(new_lon, new_lat)\n",
    "m.scatter(new_map_x, new_map_y, 12, marker='o', color='red')\n",
    "\n",
    "plt.show()"
   ]
  },
  {
   "cell_type": "markdown",
   "metadata": {},
   "source": [
    "Sweet!"
   ]
  },
  {
   "cell_type": "markdown",
   "metadata": {},
   "source": [
    "<img src=\"https://avatars1.githubusercontent.com/u/1692321?v=3&s=200\" style=\"float:right;\" width=\"50px\" /><p style=\"color:gray; float:right;\">© 2015 <a href=\"http://www.agilegeoscience.com/\">Agile Geoscience</a> — <a href=\"https://creativecommons.org/licenses/by/4.0/\">CC-BY</a> — Have fun!&nbsp;&nbsp;&nbsp;</p>"
   ]
  }
 ],
 "metadata": {
  "kernelspec": {
   "display_name": "Python 2",
   "language": "python",
   "name": "python2"
  },
  "language_info": {
   "codemirror_mode": {
    "name": "ipython",
    "version": 2
   },
   "file_extension": ".py",
   "mimetype": "text/x-python",
   "name": "python",
   "nbconvert_exporter": "python",
   "pygments_lexer": "ipython2",
   "version": "2.7.9"
  }
 },
 "nbformat": 4,
 "nbformat_minor": 0
}
