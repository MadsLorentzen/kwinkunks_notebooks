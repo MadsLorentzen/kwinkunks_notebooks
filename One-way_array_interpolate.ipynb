{
 "cells": [
  {
   "cell_type": "markdown",
   "metadata": {},
   "source": [
    "# One-way array interpolate"
   ]
  },
  {
   "cell_type": "code",
   "execution_count": 1,
   "metadata": {
    "collapsed": true
   },
   "outputs": [],
   "source": [
    "import numpy as np\n",
    "\n",
    "%matplotlib inline\n",
    "import matplotlib.pyplot as plt"
   ]
  },
  {
   "cell_type": "code",
   "execution_count": 296,
   "metadata": {
    "collapsed": true
   },
   "outputs": [],
   "source": [
    "x = np.array([0, 3, 5, 9, 10])\n",
    "\n",
    "# 2D\n",
    "y = np.array([[0, 300, 500, 900, 100], [0, 300, 500, 800, 100]])\n",
    "\n",
    "# 1D\n",
    "#y = np.array([0, 300, 500, 800, 100])\n",
    "\n",
    "# Large\n",
    "#y = np.tile(y, [2000,1])"
   ]
  },
  {
   "cell_type": "code",
   "execution_count": 282,
   "metadata": {
    "collapsed": true
   },
   "outputs": [],
   "source": [
    "# Ari Hartikainen's argmax trick\n",
    "# Adapted to do left or right with the change in operator\n",
    "\n",
    "import operator\n",
    "\n",
    "def interpfill(x, y, kind='right', axis=-1):\n",
    "    x = np.asanyarray(x)\n",
    "    y = np.asanyarray(y)\n",
    "    def func(xnew):\n",
    "        kinds = {\n",
    "            'left': operator.le,\n",
    "            'right': operator.lt\n",
    "        }\n",
    "        xnew = np.asanyarray(xnew).reshape(-1, 1)\n",
    "        idx = kinds[kind](xnew, x).argmax(1) - 1\n",
    "        return np.take(y, idx, axis=axis)\n",
    "    return func"
   ]
  },
  {
   "cell_type": "code",
   "execution_count": 303,
   "metadata": {},
   "outputs": [
    {
     "data": {
      "text/plain": [
       "array([[  0,   0,   0, ..., 100, 100, 100],\n",
       "       [  0,   0,   0, ..., 100, 100, 100],\n",
       "       [  0,   0,   0, ..., 100, 100, 100],\n",
       "       ..., \n",
       "       [  0,   0,   0, ..., 100, 100, 100],\n",
       "       [  0,   0,   0, ..., 100, 100, 100],\n",
       "       [  0,   0,   0, ..., 100, 100, 100]])"
      ]
     },
     "execution_count": 303,
     "metadata": {},
     "output_type": "execute_result"
    }
   ],
   "source": [
    "f = interpfill(x, y)\n",
    "\n",
    "xnew = np.arange(1, 12, 0.01)\n",
    "f(xnew)"
   ]
  },
  {
   "cell_type": "code",
   "execution_count": 284,
   "metadata": {
    "collapsed": true
   },
   "outputs": [],
   "source": [
    "# Dieter Werthmüller's `searchsorted` trick\n",
    "\n",
    "def interpfill(x, y, kind='right', axis=-1):\n",
    "    x = np.asanyarray(x)\n",
    "    y = np.asanyarray(y)\n",
    "    def func(xnew):\n",
    "        xnew = np.asanyarray(xnew).reshape(-1, 1)\n",
    "        idx = np.searchsorted(x, xnew, side=kind) - 1\n",
    "        values = np.take(y, idx, axis=axis)\n",
    "        return values.reshape(y.shape[0], -1)\n",
    "    return func"
   ]
  },
  {
   "cell_type": "code",
   "execution_count": 304,
   "metadata": {},
   "outputs": [
    {
     "data": {
      "text/plain": [
       "array([[  0,   0,   0, ..., 100, 100, 100],\n",
       "       [  0,   0,   0, ..., 100, 100, 100],\n",
       "       [  0,   0,   0, ..., 100, 100, 100],\n",
       "       ..., \n",
       "       [  0,   0,   0, ..., 100, 100, 100],\n",
       "       [  0,   0,   0, ..., 100, 100, 100],\n",
       "       [  0,   0,   0, ..., 100, 100, 100]])"
      ]
     },
     "execution_count": 304,
     "metadata": {},
     "output_type": "execute_result"
    }
   ],
   "source": [
    "f = interpfill(x, y)\n",
    "\n",
    "xnew = np.arange(1, 12, 0.01)\n",
    "f(xnew)"
   ]
  },
  {
   "cell_type": "markdown",
   "metadata": {},
   "source": [
    "## Compare with `scipy.interpolate`"
   ]
  },
  {
   "cell_type": "code",
   "execution_count": 286,
   "metadata": {},
   "outputs": [
    {
     "data": {
      "text/plain": [
       "array([[   0.,    0.,    0., ...,  100.,  100.,  100.],\n",
       "       [   0.,    0.,    0., ...,  100.,  100.,  100.]])"
      ]
     },
     "execution_count": 286,
     "metadata": {},
     "output_type": "execute_result"
    }
   ],
   "source": [
    "from scipy.interpolate import interp1d\n",
    "\n",
    "g = interp1d(x, y, kind='nearest', bounds_error=False, fill_value='extrapolate')\n",
    "g(xnew)"
   ]
  }
 ],
 "metadata": {
  "anaconda-cloud": {},
  "kernelspec": {
   "display_name": "Python [conda env:geocomp]",
   "language": "python",
   "name": "conda-env-geocomp-py"
  },
  "language_info": {
   "codemirror_mode": {
    "name": "ipython",
    "version": 3
   },
   "file_extension": ".py",
   "mimetype": "text/x-python",
   "name": "python",
   "nbconvert_exporter": "python",
   "pygments_lexer": "ipython3",
   "version": "3.6.3"
  }
 },
 "nbformat": 4,
 "nbformat_minor": 1
}
