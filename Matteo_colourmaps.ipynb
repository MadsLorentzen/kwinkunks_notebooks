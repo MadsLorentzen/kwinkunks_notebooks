{
 "metadata": {
  "name": ""
 },
 "nbformat": 3,
 "nbformat_minor": 0,
 "worksheets": [
  {
   "cells": [
    {
     "cell_type": "heading",
     "level": 1,
     "metadata": {},
     "source": [
      "Matteo colourmaps"
     ]
    },
    {
     "cell_type": "markdown",
     "metadata": {},
     "source": [
      "Matteo Niccoli has made some awesome colourmaps, and has published a routine to convert them to Matplotlib colourmaps. This is very cool! \n",
      "\n",
      "He explains all in his 25 April 2014 blog post [Convert colour palettes to Python Matplotlib colour palettes](http://mycarta.wordpress.com/2014/04/25/convert-color-palettes-to-python-matplotlib-colormaps/)."
     ]
    },
    {
     "cell_type": "heading",
     "level": 2,
     "metadata": {},
     "source": [
      "Load the data"
     ]
    },
    {
     "cell_type": "markdown",
     "metadata": {},
     "source": [
      "There's a bit at the start where you are downloading data, unzipping, reformatting, etc. I thought I'd try doing all that in Python too..."
     ]
    },
    {
     "cell_type": "code",
     "collapsed": false,
     "input": [
      "%pylab inline\n",
      "import numpy as np"
     ],
     "language": "python",
     "metadata": {},
     "outputs": [
      {
       "output_type": "stream",
       "stream": "stdout",
       "text": [
        "Populating the interactive namespace from numpy and matplotlib\n"
       ]
      }
     ],
     "prompt_number": 2
    },
    {
     "cell_type": "markdown",
     "metadata": {},
     "source": [
      "We can read the data straight from the web. We'll need some of the standard libraries. "
     ]
    },
    {
     "cell_type": "code",
     "collapsed": false,
     "input": [
      "import urllib2, zipfile, StringIO"
     ],
     "language": "python",
     "metadata": {},
     "outputs": [],
     "prompt_number": 3
    },
    {
     "cell_type": "markdown",
     "metadata": {},
     "source": [
      "Now we can read the zip file and examine its contents. We'll keep it in memory using a <code>StringIO</code> object."
     ]
    },
    {
     "cell_type": "code",
     "collapsed": false,
     "input": [
      "remote_file = 'http://mycarta.files.wordpress.com/2013/03/0-1.odt'\n",
      "\n",
      "# Read the data from the web, as normal.\n",
      "web_data = urllib2.urlopen(remote_file)\n",
      " \n",
      "# Convert the bytes into a file-like object in memory\n",
      "zip_in_memory = StringIO.StringIO(web_data.read())\n",
      " \n",
      "# Instantiate a ZipFile object from the file-like in memory.\n",
      "z = zipfile.ZipFile(zip_in_memory)\n",
      " \n",
      "z.namelist()"
     ],
     "language": "python",
     "metadata": {},
     "outputs": [
      {
       "metadata": {},
       "output_type": "pyout",
       "prompt_number": 4,
       "text": [
        "['cube1_0-1.csv',\n",
        " '__MACOSX/',\n",
        " '__MACOSX/._cube1_0-1.csv',\n",
        " 'cubeYF_0-1.csv',\n",
        " '__MACOSX/._cubeYF_0-1.csv',\n",
        " 'Linear_L_0-1.csv',\n",
        " '__MACOSX/._Linear_L_0-1.csv']"
       ]
      }
     ],
     "prompt_number": 4
    },
    {
     "cell_type": "markdown",
     "metadata": {},
     "source": [
      "We need file number 5."
     ]
    },
    {
     "cell_type": "code",
     "collapsed": false,
     "input": [
      "f = z.open(z.namelist()[5])\n",
      "raw_data = f.read()"
     ],
     "language": "python",
     "metadata": {},
     "outputs": [],
     "prompt_number": 5
    },
    {
     "cell_type": "markdown",
     "metadata": {},
     "source": [
      "Let's look at the first 100 characters:"
     ]
    },
    {
     "cell_type": "code",
     "collapsed": false,
     "input": [
      "raw_data[:100]"
     ],
     "language": "python",
     "metadata": {},
     "outputs": [
      {
       "metadata": {},
       "output_type": "pyout",
       "prompt_number": 6,
       "text": [
        "'0.0143,0.0143,0.0143\\r0.0404,0.0125,0.0325\\r0.0516,0.0154,0.0443\\r0.0616,0.0184,0.0530\\r0.0699,0.0215,0.'"
       ]
      }
     ],
     "prompt_number": 6
    },
    {
     "cell_type": "markdown",
     "metadata": {},
     "source": [
      "We just need to split this to get a list of strings:"
     ]
    },
    {
     "cell_type": "code",
     "collapsed": false,
     "input": [
      "list_o_strings = raw_data.split()\n",
      "list_o_strings[:10]"
     ],
     "language": "python",
     "metadata": {},
     "outputs": [
      {
       "metadata": {},
       "output_type": "pyout",
       "prompt_number": 7,
       "text": [
        "['0.0143,0.0143,0.0143',\n",
        " '0.0404,0.0125,0.0325',\n",
        " '0.0516,0.0154,0.0443',\n",
        " '0.0616,0.0184,0.0530',\n",
        " '0.0699,0.0215,0.0615',\n",
        " '0.0814,0.0229,0.0687',\n",
        " '0.0857,0.0273,0.0763',\n",
        " '0.0928,0.0305,0.0805',\n",
        " '0.1008,0.0330,0.0846',\n",
        " '0.1064,0.0356,0.0939']"
       ]
      }
     ],
     "prompt_number": 7
    },
    {
     "cell_type": "markdown",
     "metadata": {},
     "source": [
      "Now we can use a nested list comprehension to step over the list of strings, splitting each string on its commas, and converting each element (which will still be a string) to a floating point number..."
     ]
    },
    {
     "cell_type": "code",
     "collapsed": false,
     "input": [
      "list_o_lists = [[float(num) for num in string.split(',')] for string in list_o_strings]\n",
      "list_o_lists[:10]"
     ],
     "language": "python",
     "metadata": {},
     "outputs": [
      {
       "metadata": {},
       "output_type": "pyout",
       "prompt_number": 8,
       "text": [
        "[[0.0143, 0.0143, 0.0143],\n",
        " [0.0404, 0.0125, 0.0325],\n",
        " [0.0516, 0.0154, 0.0443],\n",
        " [0.0616, 0.0184, 0.053],\n",
        " [0.0699, 0.0215, 0.0615],\n",
        " [0.0814, 0.0229, 0.0687],\n",
        " [0.0857, 0.0273, 0.0763],\n",
        " [0.0928, 0.0305, 0.0805],\n",
        " [0.1008, 0.033, 0.0846],\n",
        " [0.1064, 0.0356, 0.0939]]"
       ]
      }
     ],
     "prompt_number": 8
    },
    {
     "cell_type": "code",
     "collapsed": false,
     "input": [
      "LinL = np.array(list_o_lists)\n",
      "LinL[:3]"
     ],
     "language": "python",
     "metadata": {},
     "outputs": [
      {
       "metadata": {},
       "output_type": "pyout",
       "prompt_number": 9,
       "text": [
        "array([[ 0.0143,  0.0143,  0.0143],\n",
        "       [ 0.0404,  0.0125,  0.0325],\n",
        "       [ 0.0516,  0.0154,  0.0443]])"
       ]
      }
     ],
     "prompt_number": 9
    },
    {
     "cell_type": "markdown",
     "metadata": {},
     "source": [
      "Win!"
     ]
    },
    {
     "cell_type": "heading",
     "level": 2,
     "metadata": {},
     "source": [
      "Continue with Matteo's workflow"
     ]
    },
    {
     "cell_type": "markdown",
     "metadata": {},
     "source": [
      "We'll just run Matteo's code..."
     ]
    },
    {
     "cell_type": "code",
     "collapsed": false,
     "input": [
      "%matplotlib inline\n",
      "import matplotlib.pyplot as plt"
     ],
     "language": "python",
     "metadata": {},
     "outputs": [],
     "prompt_number": 10
    },
    {
     "cell_type": "code",
     "collapsed": false,
     "input": [
      "b3 = LinL[:,2] # value of blue at sample n\n",
      "b2 = LinL[:,2] # value of blue at sample n\n",
      "b1 = linspace(0, 1, len(b2)) # position of sample n - ranges from 0 to 1\n",
      "\n",
      "# Setting up columns for tuples\n",
      "g3 = LinL[:,1]\n",
      "g2 = LinL[:,1]\n",
      "g1 = linspace(0,1,len(g2))\n",
      "\n",
      "r3 = LinL[:,0]\n",
      "r2 = LinL[:,0]\n",
      "r1 = linspace(0,1,len(r2))\n",
      "\n",
      "# Creating tuples\n",
      "R = zip(r1,r2,r3)\n",
      "G = zip(g1,g2,g3)\n",
      "B = zip(b1,b2,b3)\n",
      "\n",
      "# Transposing\n",
      "RGB = zip(R,G,B)\n",
      "rgb = zip(*RGB)\n",
      "\n",
      "# Creating dictionary\n",
      "k = ['red', 'green', 'blue']\n",
      "LinearL = dict(zip(k,rgb))"
     ],
     "language": "python",
     "metadata": {},
     "outputs": [],
     "prompt_number": 11
    },
    {
     "cell_type": "markdown",
     "metadata": {},
     "source": [
      "And test it with a plot."
     ]
    },
    {
     "cell_type": "code",
     "collapsed": false,
     "input": [
      "my_cmap = matplotlib.colors.LinearSegmentedColormap('matteo', LinearL)\n",
      "\n",
      "plt.figure(figsize=(5,4))\n",
      "plt.pcolor(rand(10,10),cmap=my_cmap)\n",
      "plt.colorbar()\n",
      "plt.show()"
     ],
     "language": "python",
     "metadata": {},
     "outputs": [
      {
       "metadata": {},
       "output_type": "display_data",
       "png": "[encoded data removed]",
       "text": [
        "<matplotlib.figure.Figure at 0x10c19e1d0>"
       ]
      }
     ],
     "prompt_number": 12
    },
    {
     "cell_type": "heading",
     "level": 2,
     "metadata": {},
     "source": [
      "Reverse it"
     ]
    },
    {
     "cell_type": "markdown",
     "metadata": {},
     "source": [
      "To make a reversed version, I think we have to reverse <code>rgb</code> and repeat the process. It's a three-element list, where each element is a tuple of tuples."
     ]
    },
    {
     "cell_type": "code",
     "collapsed": false,
     "input": [
      "def reverse_colourmap(cmap):\n",
      "    reverse = []\n",
      "    for channel in cmap:\n",
      "        data = []\n",
      "        for t in channel:\n",
      "            data.append((1 - t[0], t[1], t[2]))\n",
      "        reverse.append(sorted(data))\n",
      "        \n",
      "    return reverse"
     ],
     "language": "python",
     "metadata": {},
     "outputs": [],
     "prompt_number": 13
    },
    {
     "cell_type": "code",
     "collapsed": false,
     "input": [
      "rgb_r = reverse_colourmap(rgb)"
     ],
     "language": "python",
     "metadata": {},
     "outputs": [],
     "prompt_number": 14
    },
    {
     "cell_type": "code",
     "collapsed": false,
     "input": [
      "LinearL_r = dict(zip(k,rgb_r))\n",
      "my_cmap_r = matplotlib.colors.LinearSegmentedColormap('matteo_r', LinearL_r)\n",
      "\n",
      "plt.figure(figsize=(5,4))\n",
      "plt.pcolor(rand(10,10),cmap=my_cmap_r)\n",
      "plt.colorbar()\n",
      "plt.show()"
     ],
     "language": "python",
     "metadata": {},
     "outputs": [
      {
       "metadata": {},
       "output_type": "display_data",
       "png": "[encoded data removed]",
       "text": [
        "<matplotlib.figure.Figure at 0x10d3441d0>"
       ]
      }
     ],
     "prompt_number": 15
    },
    {
     "cell_type": "markdown",
     "metadata": {},
     "source": [
      "The <code>sorted()</code> is important. As well as having the right <code>x</code> values, the coloumap channels must be in order.\n",
      "\n",
      "Instead of reversing the finished colourmap, let's do it from the start, with the original code..."
     ]
    },
    {
     "cell_type": "code",
     "collapsed": false,
     "input": [
      "def gen_cmap(name, array, start, end):\n",
      "    b3 = array[:,2] # value of blue at sample n\n",
      "    b2 = array[:,2] # value of blue at sample n\n",
      "    b1 = linspace(start, end, len(b2)) # position of sample n - ranges from 0 to 1\n",
      "    \n",
      "    # Setting up columns for tuples\n",
      "    g3 = array[:,1]\n",
      "    g2 = array[:,1]\n",
      "    g1 = linspace(start, end, len(g2))\n",
      "    \n",
      "    r3 = array[:,0]\n",
      "    r2 = array[:,0]\n",
      "    r1 = linspace(start, end, len(r2))\n",
      "    \n",
      "    # Creating tuples\n",
      "    R = sorted(zip(r1,r2,r3))\n",
      "    G = sorted(zip(g1,g2,g3))\n",
      "    B = sorted(zip(b1,b2,b3))\n",
      "    \n",
      "    # Transposing\n",
      "    RGB = zip(R,G,B)\n",
      "    rgb = zip(*RGB)\n",
      "    \n",
      "    # Creating dictionary\n",
      "    k = ['red', 'green', 'blue']\n",
      "    LinearL = dict(zip(k,rgb))\n",
      "    \n",
      "    return matplotlib.colors.LinearSegmentedColormap(name, LinearL)"
     ],
     "language": "python",
     "metadata": {},
     "outputs": [],
     "prompt_number": 16
    },
    {
     "cell_type": "code",
     "collapsed": false,
     "input": [
      "my_cmap_r = gen_cmap('matteo_r', LinL, 1, 0)\n",
      "\n",
      "plt.figure(figsize=(5,4))\n",
      "plt.pcolor(rand(10,10),cmap=my_cmap_r)\n",
      "plt.colorbar()\n",
      "plt.show()"
     ],
     "language": "python",
     "metadata": {},
     "outputs": [
      {
       "metadata": {},
       "output_type": "display_data",
       "png": "[encoded data removed]",
       "text": [
        "<matplotlib.figure.Figure at 0x10d312890>"
       ]
      }
     ],
     "prompt_number": 17
    },
    {
     "cell_type": "markdown",
     "metadata": {},
     "source": [
      "And just check this works with the original..."
     ]
    },
    {
     "cell_type": "code",
     "collapsed": false,
     "input": [
      "my_cmap = gen_cmap('matteo', LinL, 0, 1)\n",
      "\n",
      "plt.figure(figsize=(5,4))\n",
      "plt.pcolor(rand(10,10),cmap=my_cmap)\n",
      "plt.colorbar()\n",
      "plt.show()"
     ],
     "language": "python",
     "metadata": {},
     "outputs": [
      {
       "metadata": {},
       "output_type": "display_data",
       "png": "[encoded data removed]",
       "text": [
        "<matplotlib.figure.Figure at 0x10d350890>"
       ]
      }
     ],
     "prompt_number": 18
    },
    {
     "cell_type": "markdown",
     "metadata": {},
     "source": [
      "Ha, I just read about <code>numpy.flipud(a)</code> and realized you could just flip the array we started with:"
     ]
    },
    {
     "cell_type": "code",
     "collapsed": false,
     "input": [
      "my_cmap_r = gen_cmap('matteo_r', np.flipud(LinL), 0, 1)\n",
      "\n",
      "plt.figure(figsize=(5,4))\n",
      "plt.pcolor(rand(10,10),cmap=my_cmap_r)\n",
      "plt.colorbar()\n",
      "plt.show()"
     ],
     "language": "python",
     "metadata": {},
     "outputs": [
      {
       "metadata": {},
       "output_type": "display_data",
       "png": "[encoded data removed]",
       "text": [
        "<matplotlib.figure.Figure at 0x10d396490>"
       ]
      }
     ],
     "prompt_number": 19
    },
    {
     "cell_type": "markdown",
     "metadata": {},
     "source": [
      "NumPy is awesome."
     ]
    },
    {
     "cell_type": "heading",
     "level": 2,
     "metadata": {},
     "source": [
      "For the impatient"
     ]
    },
    {
     "cell_type": "markdown",
     "metadata": {},
     "source": [
      "You can also use the built-in cubehelix from matplotlib to produce a similar colourmap:"
     ]
    },
    {
     "cell_type": "code",
     "collapsed": false,
     "input": [
      "%matplotlib inline\n",
      "%pylab inline\n",
      "import numpy as np\n",
      "import matplotlib.pyplot as plt\n",
      "import matplotlib._cm, matplotlib.cm\n",
      "name    = \"matteohelix\"\n",
      "specs   = matplotlib._cm.cubehelix(gamma=1.4,s=0.4,r=-0.8,h=2.0)\n",
      "specs_r = matplotlib.cm._reverse_cmap_spec(specs)\n",
      "matplotlib.cm.register_cmap(name=name     , data=specs)\n",
      "matplotlib.cm.register_cmap(name=name+\"_r\", data=specs_r)\n",
      "\n",
      "plt.figure(figsize=(5,4))\n",
      "plt.pcolor(rand(10,10),cmap=matplotlib.cm.get_cmap(name))\n",
      "plt.colorbar()\n",
      "plt.show()\n",
      "\n",
      "plt.figure(figsize=(5,4))\n",
      "plt.pcolor(rand(10,10),cmap=matplotlib.cm.get_cmap(name+'_r'))\n",
      "plt.colorbar()\n",
      "plt.show()"
     ],
     "language": "python",
     "metadata": {},
     "outputs": [
      {
       "output_type": "stream",
       "stream": "stdout",
       "text": [
        "Populating the interactive namespace from numpy and matplotlib\n"
       ]
      },
      {
       "metadata": {},
       "output_type": "display_data",
       "png": "[encoded data removed]",
       "text": [
        "<matplotlib.figure.Figure at 0xb0bad54c>"
       ]
      },
      {
       "metadata": {},
       "output_type": "display_data",
       "png": "[encoded data removed]",
       "text": [
        "<matplotlib.figure.Figure at 0xb0ac67ec>"
       ]
      }
     ],
     "prompt_number": 2
    },
    {
     "cell_type": "code",
     "collapsed": false,
     "input": [],
     "language": "python",
     "metadata": {},
     "outputs": []
    }
   ],
   "metadata": {}
  }
 ]
}