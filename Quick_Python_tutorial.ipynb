{
 "cells": [
  {
   "cell_type": "markdown",
   "metadata": {},
   "source": [
    "## Getting started\n",
    "\n",
    "- Open a console window: look in the **Start** menu for **Anaconda** then **Anaconda prompt**.\n",
    "- Notice it says `(base)` in the prompt. This is the virtual environment. You don't want to use `base`, but switch to your own environment. Type this:\n",
    "\n",
    "```\n",
    "    conda activate hackathon\n",
    "```\n",
    "\n",
    "- The prompt changes to reflect your environment.\n",
    "- Now you can start Jupyter:\n",
    "\n",
    "```\n",
    "    jupyter lab\n",
    "```\n",
    "\n",
    "- Away you go!\n",
    "- A common source of confusion is that the environment is not connected to the folder or files you are using (the Python and Jupyter notebook files). You can use your environment on any project or group of projects. You don't have to be in a particular folder to use an environment.\n",
    "\n",
    "### Making a new environment\n",
    "\n",
    "If you want to make a new environment, e.g. for a new project, do this **replacing `my_env` with whatever name you want:\n",
    "\n",
    "    conda create -n my_env python=3.7 anaconda\n",
    "    conda activate my_env\n",
    "    python -m ipykernel install --user --name my_env\n",
    "    \n",
    "When Python 3.8 comes out in a few weeks, you can start using that. The last bit (with `ipykernel`) installs a Jupyter kernel (the Python runtime) using the new environment, so you can use it from within Jupyter. \n",
    "\n",
    "### Other ways to run Python\n",
    "\n",
    "Some people like the **Anaconda Navigator** &mdash; have a look for it in the **Start** menu.\n",
    "\n",
    "Check out **Spyder** as well (also installed with Anaconda). It's an 'IDE' a bit like MATLAB or R Studio. Some people like it."
   ]
  },
  {
   "cell_type": "markdown",
   "metadata": {},
   "source": [
    "## Notebooks\n",
    "\n",
    "Notebooks are documents that can be rendered as HTML by the Jupyter server that's running on your computer when you start Jupyter. (The actual document, the `.ipynb` file, is stored in a format called JSON.) \n",
    "\n",
    "Notebooks are useful because they combine code blocks with text blocks (like this one). Double click on a text block to edit it. **Shift** + **Enter** to render it.\n",
    "\n",
    "The text blocks are written in a mark-up language called Markdown.\n",
    "\n",
    "The code blocks are written in Python. Here's one:"
   ]
  },
  {
   "cell_type": "code",
   "execution_count": 1,
   "metadata": {},
   "outputs": [
    {
     "name": "stdout",
     "output_type": "stream",
     "text": [
      "Hello world\n"
     ]
    }
   ],
   "source": [
    "print(\"Hello world\")"
   ]
  },
  {
   "cell_type": "markdown",
   "metadata": {},
   "source": [
    "Click on a code block to edit it. Press **Shift** + **Enter** to run it."
   ]
  },
  {
   "cell_type": "markdown",
   "metadata": {},
   "source": [
    "You can add more blocks with the **+** button, or by pressing **Esc** then **B**. "
   ]
  },
  {
   "cell_type": "markdown",
   "metadata": {},
   "source": [
    "## Maths!\n",
    "\n",
    "Let's write some code..."
   ]
  },
  {
   "cell_type": "code",
   "execution_count": 3,
   "metadata": {},
   "outputs": [
    {
     "data": {
      "text/plain": [
       "8.14"
      ]
     },
     "execution_count": 3,
     "metadata": {},
     "output_type": "execute_result"
    }
   ],
   "source": [
    "# This is a code comment. Python ignores it.\n",
    "\n",
    "a = 5  # a is a 'variable' or 'name'. Variables store data.\n",
    "\n",
    "a + 3.14"
   ]
  },
  {
   "cell_type": "code",
   "execution_count": 2,
   "metadata": {},
   "outputs": [
    {
     "data": {
      "text/plain": [
       "14"
      ]
     },
     "execution_count": 2,
     "metadata": {},
     "output_type": "execute_result"
    }
   ],
   "source": [
    "4 * 5 - 6"
   ]
  },
  {
   "cell_type": "code",
   "execution_count": 3,
   "metadata": {},
   "outputs": [
    {
     "data": {
      "text/plain": [
       "3"
      ]
     },
     "execution_count": 3,
     "metadata": {},
     "output_type": "execute_result"
    }
   ],
   "source": [
    "11 // 3  # This is integer division"
   ]
  },
  {
   "cell_type": "code",
   "execution_count": 5,
   "metadata": {},
   "outputs": [
    {
     "data": {
      "text/plain": [
       "300000.0"
      ]
     },
     "execution_count": 5,
     "metadata": {},
     "output_type": "execute_result"
    }
   ],
   "source": [
    "3e5  # This is a float, like 3.14, but it means '3 times 10 to the power of 5'"
   ]
  },
  {
   "cell_type": "code",
   "execution_count": 6,
   "metadata": {},
   "outputs": [
    {
     "data": {
      "text/plain": [
       "8"
      ]
     },
     "execution_count": 6,
     "metadata": {},
     "output_type": "execute_result"
    }
   ],
   "source": [
    "2**3  # This is 2 to the power of 3, note it is NOT 2^3"
   ]
  },
  {
   "cell_type": "markdown",
   "metadata": {},
   "source": [
    "For more maths you might need to import the `math` module, which is built into Python. It contains lots of mathematical functions e.g. "
   ]
  },
  {
   "cell_type": "code",
   "execution_count": 4,
   "metadata": {},
   "outputs": [
    {
     "data": {
      "text/plain": [
       "2.23606797749979"
      ]
     },
     "execution_count": 4,
     "metadata": {},
     "output_type": "execute_result"
    }
   ],
   "source": [
    "import math\n",
    "\n",
    "math.sqrt(5)"
   ]
  },
  {
   "cell_type": "markdown",
   "metadata": {},
   "source": [
    "In practice, though, we are often using NumPy, which has all the same things as `math` plus 1 million other things:"
   ]
  },
  {
   "cell_type": "code",
   "execution_count": 7,
   "metadata": {},
   "outputs": [
    {
     "data": {
      "text/plain": [
       "2.23606797749979"
      ]
     },
     "execution_count": 7,
     "metadata": {},
     "output_type": "execute_result"
    }
   ],
   "source": [
    "import numpy as np\n",
    "\n",
    "np.sqrt(5)"
   ]
  },
  {
   "cell_type": "markdown",
   "metadata": {},
   "source": [
    "## Strings!\n",
    "\n",
    "Strings are ordered sequences of characters. "
   ]
  },
  {
   "cell_type": "code",
   "execution_count": 9,
   "metadata": {},
   "outputs": [
    {
     "name": "stdout",
     "output_type": "stream",
     "text": [
      "Sandstone\n"
     ]
    }
   ],
   "source": [
    "s = \"Sandstone\"\n",
    "\n",
    "print(s)"
   ]
  },
  {
   "cell_type": "code",
   "execution_count": 10,
   "metadata": {},
   "outputs": [
    {
     "data": {
      "text/plain": [
       "'n'"
      ]
     },
     "execution_count": 10,
     "metadata": {},
     "output_type": "execute_result"
    }
   ],
   "source": [
    "s[2]  # Indexing. This means 'give me the 3rd character in s (Python counts from 0)'"
   ]
  },
  {
   "cell_type": "code",
   "execution_count": 11,
   "metadata": {},
   "outputs": [
    {
     "data": {
      "text/plain": [
       "'ndst'"
      ]
     },
     "execution_count": 11,
     "metadata": {},
     "output_type": "execute_result"
    }
   ],
   "source": [
    "s[2:6]  # Slicing. This means 'give me characters from index 2 up to (not including) index 6'"
   ]
  },
  {
   "cell_type": "markdown",
   "metadata": {},
   "source": [
    "Strings have 'methods' that are functions that are sort of 'attached' to the strings you make:"
   ]
  },
  {
   "cell_type": "code",
   "execution_count": 12,
   "metadata": {},
   "outputs": [
    {
     "data": {
      "text/plain": [
       "'SANDSTONE'"
      ]
     },
     "execution_count": 12,
     "metadata": {},
     "output_type": "execute_result"
    }
   ],
   "source": [
    "s.upper()"
   ]
  },
  {
   "cell_type": "code",
   "execution_count": 13,
   "metadata": {},
   "outputs": [
    {
     "data": {
      "text/plain": [
       "'Sa***tone'"
      ]
     },
     "execution_count": 13,
     "metadata": {},
     "output_type": "execute_result"
    }
   ],
   "source": [
    "s.replace('nds', '***')"
   ]
  },
  {
   "cell_type": "code",
   "execution_count": 14,
   "metadata": {},
   "outputs": [
    {
     "data": {
      "text/plain": [
       "3"
      ]
     },
     "execution_count": 14,
     "metadata": {},
     "output_type": "execute_result"
    }
   ],
   "source": [
    "s.find('d')  # At which index is the 'd'?"
   ]
  },
  {
   "cell_type": "markdown",
   "metadata": {},
   "source": [
    "## Lists!\n",
    "\n",
    "Sometimes (often) you want to store ordered sequences of other things - not just characters. Python's `list` object can store anything (including more lists!)."
   ]
  },
  {
   "cell_type": "code",
   "execution_count": 21,
   "metadata": {},
   "outputs": [],
   "source": [
    "mylist = [5, 10, 15, 20, 25, 30]"
   ]
  },
  {
   "cell_type": "code",
   "execution_count": 22,
   "metadata": {},
   "outputs": [
    {
     "data": {
      "text/plain": [
       "15"
      ]
     },
     "execution_count": 22,
     "metadata": {},
     "output_type": "execute_result"
    }
   ],
   "source": [
    "mylist[2]  # Indexing and slicing are just like they are for strings"
   ]
  },
  {
   "cell_type": "code",
   "execution_count": 23,
   "metadata": {},
   "outputs": [
    {
     "data": {
      "text/plain": [
       "30"
      ]
     },
     "execution_count": 23,
     "metadata": {},
     "output_type": "execute_result"
    }
   ],
   "source": [
    "mylist[-1]  # You can index backward from the end with negative numbers."
   ]
  },
  {
   "cell_type": "code",
   "execution_count": 24,
   "metadata": {},
   "outputs": [
    {
     "data": {
      "text/plain": [
       "[5, 10, 15, 20, 25, 30, 35]"
      ]
     },
     "execution_count": 24,
     "metadata": {},
     "output_type": "execute_result"
    }
   ],
   "source": [
    "mylist.append(35)  # Adds to the end of the list\n",
    "\n",
    "mylist"
   ]
  },
  {
   "cell_type": "code",
   "execution_count": null,
   "metadata": {},
   "outputs": [],
   "source": []
  }
 ],
 "metadata": {
  "kernelspec": {
   "display_name": "py37",
   "language": "python",
   "name": "py37"
  },
  "language_info": {
   "codemirror_mode": {
    "name": "ipython",
    "version": 3
   },
   "file_extension": ".py",
   "mimetype": "text/x-python",
   "name": "python",
   "nbconvert_exporter": "python",
   "pygments_lexer": "ipython3",
   "version": "3.7.1"
  }
 },
 "nbformat": 4,
 "nbformat_minor": 2
}
