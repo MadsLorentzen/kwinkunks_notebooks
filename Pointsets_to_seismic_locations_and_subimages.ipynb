{
 "cells": [
  {
   "cell_type": "markdown",
   "metadata": {},
   "source": [
    "# OpendTect points to seismic subimages\n",
    "\n",
    "\n",
    "## Read OdT data\n",
    "\n",
    "First we want to read the OdT pointset files."
   ]
  },
  {
   "cell_type": "code",
   "execution_count": 73,
   "metadata": {},
   "outputs": [
    {
     "name": "stdout",
     "output_type": "stream",
     "text": [
      "dTect V6.4\n",
      "PickSet Group\n",
      "ons. 18 sep 2019, 14:00:16\n",
      "!\n",
      "Z-Unit: Seconds\n",
      "!\n",
      "616522.7177599\t6081983.02383028\t1.78091901\t24.99897766\t1.57079637\t0.02792416\n",
      "616612.8505724\t6081985.54336153\t1.74458008\t24.99897766\t1.57079637\t0.02792416\n",
      "616951.00779896\t6081994.99355684\t1.67791951\t24.99897766\t1.57079637\t0.02792\n"
     ]
    }
   ],
   "source": [
    "with open(\"/home/matt/Downloads/salt.pck\", 'r') as f:\n",
    "    data = f.read()\n",
    "    \n",
    "print(data[:300])"
   ]
  },
  {
   "cell_type": "markdown",
   "metadata": {},
   "source": [
    "This seems to be:\n",
    "\n",
    "- UTMx, UTMy, TWTT, something, something, something"
   ]
  },
  {
   "cell_type": "code",
   "execution_count": 56,
   "metadata": {},
   "outputs": [],
   "source": [
    "import numpy as np\n",
    "\n",
    "def read_odt_pts(fname):\n",
    "    data = np.loadtxt(fname, skiprows=6, comments='!', usecols=[0,1,2])\n",
    "    return data"
   ]
  },
  {
   "cell_type": "code",
   "execution_count": 57,
   "metadata": {},
   "outputs": [
    {
     "data": {
      "text/plain": [
       "array([[6.16522718e+05, 6.08198302e+06, 1.78091901e+00],\n",
       "       [6.16612851e+05, 6.08198554e+06, 1.74458008e+00],\n",
       "       [6.16951008e+05, 6.08199499e+06, 1.67791951e+00],\n",
       "       [6.16984838e+05, 6.08199594e+06, 1.63165966e+00],\n",
       "       [6.17176587e+05, 6.08200130e+06, 1.60028747e+00],\n",
       "       [6.17503880e+05, 6.08201045e+06, 1.59560456e+00],\n",
       "       [6.17955709e+05, 6.08202307e+06, 1.62453077e+00],\n",
       "       [6.18294879e+05, 6.08203255e+06, 1.65339516e+00],\n",
       "       [6.18622987e+05, 6.08204172e+06, 1.68029861e+00],\n",
       "       [6.19132597e+05, 6.08205596e+06, 1.70935266e+00],\n",
       "       [6.19291260e+05, 6.08206040e+06, 1.68776755e+00],\n",
       "       [6.19665473e+05, 6.08207086e+06, 1.67030214e+00],\n",
       "       [6.19778931e+05, 6.08207403e+06, 1.66545579e+00],\n",
       "       [6.16691731e+05, 6.08198775e+06, 1.78107929e+00]])"
      ]
     },
     "execution_count": 57,
     "metadata": {},
     "output_type": "execute_result"
    }
   ],
   "source": [
    "# Example\n",
    "fname = \"/home/matt/Downloads/salt.pck\"\n",
    "d = read_odt_pts(fname)\n",
    "d"
   ]
  },
  {
   "cell_type": "code",
   "execution_count": 58,
   "metadata": {},
   "outputs": [],
   "source": [
    "f3_corners_xy = np.array([\n",
    "    [605835.5, 6073556.3],\n",
    "    [629576.3, 6074219.9],\n",
    "    [629122.5, 6090463.2]\n",
    "   ])\n",
    "\n",
    "f3_corners_ix = np.array([[0,  0],\n",
    "                          [0, 950],\n",
    "                          [650, 950]\n",
    "                         ])\n",
    "\n",
    "import bruges as bg\n",
    "\n",
    "transform = bg.transform.CoordTransform(f3_corners_ix, f3_corners_xy)"
   ]
  },
  {
   "cell_type": "code",
   "execution_count": 59,
   "metadata": {},
   "outputs": [
    {
     "data": {
      "text/plain": [
       "array([325, 437])"
      ]
     },
     "execution_count": 59,
     "metadata": {},
     "output_type": "execute_result"
    }
   ],
   "source": [
    "# Example:\n",
    "transform.reverse(d[0, :2])"
   ]
  },
  {
   "cell_type": "code",
   "execution_count": 60,
   "metadata": {},
   "outputs": [],
   "source": [
    "# Put it all together\n",
    "def pts_to_ixt(fname, dt=0.004):\n",
    "    data = read_odt_pts(fname)\n",
    "    transform = bg.transform.CoordTransform(f3_corners_ix, f3_corners_xy)\n",
    "    ix = [transform.reverse(r) for r in data[:, :2]]\n",
    "    t = (data[:, 2][:, None] / dt).astype(int)\n",
    "    ixt = np.hstack([ix, t])\n",
    "    return ixt\n",
    "\n",
    "ixt = pts_to_ixt(\"/home/matt/Downloads/salt.pck\")"
   ]
  },
  {
   "cell_type": "code",
   "execution_count": 61,
   "metadata": {},
   "outputs": [
    {
     "data": {
      "text/plain": [
       "(14, 3)"
      ]
     },
     "execution_count": 61,
     "metadata": {},
     "output_type": "execute_result"
    }
   ],
   "source": [
    "ixt.shape"
   ]
  },
  {
   "cell_type": "code",
   "execution_count": 62,
   "metadata": {},
   "outputs": [
    {
     "data": {
      "text/plain": [
       "array([[325, 437, 445],\n",
       "       [325, 440, 436],\n",
       "       [325, 454, 419],\n",
       "       [325, 455, 407],\n",
       "       [325, 463, 400],\n",
       "       [325, 476, 398],\n",
       "       [325, 494, 406],\n",
       "       [325, 508, 413],\n",
       "       [325, 521, 420],\n",
       "       [325, 541, 427],\n",
       "       [325, 548, 421],\n",
       "       [325, 562, 417],\n",
       "       [325, 567, 416],\n",
       "       [325, 443, 445]])"
      ]
     },
     "execution_count": 62,
     "metadata": {},
     "output_type": "execute_result"
    }
   ],
   "source": [
    "ixt"
   ]
  },
  {
   "cell_type": "markdown",
   "metadata": {},
   "source": [
    "## Extract data"
   ]
  },
  {
   "cell_type": "code",
   "execution_count": 66,
   "metadata": {},
   "outputs": [],
   "source": [
    "# This is 278MB in memory\n",
    "f3 = np.random.randint(0, 256, size=(650, 950, 450), dtype=np.uint8)"
   ]
  },
  {
   "cell_type": "code",
   "execution_count": 74,
   "metadata": {},
   "outputs": [],
   "source": [
    "samples = []\n",
    "for (i, x, t) in ixt:\n",
    "    sample = f3[i-3:i+3, x-3:x+3, t]\n",
    "    samples.append(sample)"
   ]
  },
  {
   "cell_type": "code",
   "execution_count": 75,
   "metadata": {},
   "outputs": [
    {
     "data": {
      "image/png": "[encoded data removed]",
      "text/plain": [
       "<Figure size 1080x432 with 10 Axes>"
      ]
     },
     "metadata": {
      "needs_background": "light"
     },
     "output_type": "display_data"
    }
   ],
   "source": [
    "%matplotlib inline\n",
    "import matplotlib.pyplot as plt\n",
    "\n",
    "fig, axs = plt.subplots(nrows=2, ncols=5, figsize=(15, 6))\n",
    "for ax, sample in zip(axs.ravel(), samples[:10]):\n",
    "    ax.imshow(sample)"
   ]
  },
  {
   "cell_type": "code",
   "execution_count": null,
   "metadata": {},
   "outputs": [],
   "source": []
  }
 ],
 "metadata": {
  "kernelspec": {
   "display_name": "geocomp",
   "language": "python",
   "name": "geocomp"
  },
  "language_info": {
   "codemirror_mode": {
    "name": "ipython",
    "version": 3
   },
   "file_extension": ".py",
   "mimetype": "text/x-python",
   "name": "python",
   "nbconvert_exporter": "python",
   "pygments_lexer": "ipython3",
   "version": "3.7.1"
  }
 },
 "nbformat": 4,
 "nbformat_minor": 2
}
