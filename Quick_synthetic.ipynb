{
 "cells": [
  {
   "cell_type": "markdown",
   "metadata": {},
   "source": [
    "## A 1D synthetic\n",
    "\n",
    "We'll stick to zero-offset, so pure acoustic reflection.\n",
    "\n",
    "We'll also do everything in time, so there's no pesky time or depth conversion.\n",
    "\n",
    "### Define earth model"
   ]
  },
  {
   "cell_type": "code",
   "execution_count": 1,
   "metadata": {},
   "outputs": [],
   "source": [
    "import numpy as np\n",
    "\n",
    "thickness = [100, 100, 50, 150, 50, 200]  # In milliseconds\n",
    "\n",
    "vp = [1486, 2000, 2100, 2200, 2150, 2400]\n",
    "rho = [1000, 2150, 2250, 2300, 2250, 2350]"
   ]
  },
  {
   "cell_type": "code",
   "execution_count": 2,
   "metadata": {},
   "outputs": [],
   "source": [
    "def make_log(log, thickness):\n",
    "    out = []\n",
    "    for thick, x in zip(thickness, log):\n",
    "        out += thick * [x]\n",
    "    time = np.arange(0, sum(thickness)) / 1000\n",
    "    return np.array(out), time"
   ]
  },
  {
   "cell_type": "code",
   "execution_count": 3,
   "metadata": {},
   "outputs": [],
   "source": [
    "vp, t = make_log(vp, thickness)\n",
    "rho, _ = make_log(rho, thickness)"
   ]
  },
  {
   "cell_type": "code",
   "execution_count": 4,
   "metadata": {},
   "outputs": [
    {
     "data": {
      "image/png": "[encoded data removed]",
      "text/plain": [
       "<Figure size 288x432 with 2 Axes>"
      ]
     },
     "metadata": {
      "needs_background": "light"
     },
     "output_type": "display_data"
    }
   ],
   "source": [
    "%matplotlib inline\n",
    "import matplotlib.pyplot as plt\n",
    "\n",
    "fig, axs = plt.subplots(ncols=2, figsize=(4, 6), sharey=True)\n",
    "\n",
    "ax = axs[0]\n",
    "ax.plot(vp, t)\n",
    "ax.set_ylim(0.6, 0)\n",
    "\n",
    "ax = axs[1]\n",
    "ax.plot(rho, t)\n",
    "\n",
    "plt.show()"
   ]
  },
  {
   "cell_type": "markdown",
   "metadata": {},
   "source": [
    "### Compute reflection coefficients\n",
    "\n",
    "The reflection coefficients are given by this equation:\n",
    "\n",
    "$$ R_0 = \\frac{I_\\mathrm{lower} - I_\\mathrm{upper}}{I_\\mathrm{lower} + I_\\mathrm{upper}} $$\n",
    "\n",
    "Where $I$ is the impedance, which is the product of $V_\\mathrm{P}$ and $\\rho$."
   ]
  },
  {
   "cell_type": "code",
   "execution_count": 5,
   "metadata": {},
   "outputs": [],
   "source": [
    "I = vp * rho"
   ]
  },
  {
   "cell_type": "code",
   "execution_count": 6,
   "metadata": {},
   "outputs": [],
   "source": [
    "I_lower = I[1:]\n",
    "I_upper = I[:-1]\n",
    "\n",
    "R0 = (I_lower - I_upper) / (I_lower + I_upper)"
   ]
  },
  {
   "cell_type": "markdown",
   "metadata": {},
   "source": [
    "Let's plot what we have:"
   ]
  },
  {
   "cell_type": "code",
   "execution_count": 7,
   "metadata": {},
   "outputs": [
    {
     "data": {
      "image/png": "[encoded data removed]",
      "text/plain": [
       "<Figure size 432x432 with 3 Axes>"
      ]
     },
     "metadata": {
      "needs_background": "light"
     },
     "output_type": "display_data"
    }
   ],
   "source": [
    "fig, axs = plt.subplots(ncols=3, figsize=(6, 6), sharey=True)\n",
    "\n",
    "ax = axs[0]\n",
    "ax.plot(vp, t)\n",
    "ax.set_ylim(0.6, 0)\n",
    "\n",
    "ax = axs[1]\n",
    "ax.plot(rho, t)\n",
    "\n",
    "ax = axs[2]\n",
    "plt.plot(R0, t[:-1])\n",
    "\n",
    "plt.show()"
   ]
  },
  {
   "cell_type": "markdown",
   "metadata": {},
   "source": [
    "### Make wavelet\n",
    "\n",
    "Let's just use `bruges`:"
   ]
  },
  {
   "cell_type": "code",
   "execution_count": 8,
   "metadata": {},
   "outputs": [],
   "source": [
    "import bruges as bg\n",
    "\n",
    "w = bg.filters.ricker(duration=0.1, dt=0.001, f=30)  # Also 1 ms sample interval."
   ]
  },
  {
   "cell_type": "markdown",
   "metadata": {},
   "source": [
    "### Convolve wavelet with R0"
   ]
  },
  {
   "cell_type": "code",
   "execution_count": 9,
   "metadata": {},
   "outputs": [],
   "source": [
    "syn = np.convolve(R0, w, mode='same')"
   ]
  },
  {
   "cell_type": "markdown",
   "metadata": {},
   "source": [
    "### Plot the synthetic"
   ]
  },
  {
   "cell_type": "code",
   "execution_count": 11,
   "metadata": {},
   "outputs": [
    {
     "data": {
      "image/png": "[encoded data removed]",
      "text/plain": [
       "<Figure size 576x432 with 4 Axes>"
      ]
     },
     "metadata": {
      "needs_background": "light"
     },
     "output_type": "display_data"
    }
   ],
   "source": [
    "fig, axs = plt.subplots(ncols=4, figsize=(8, 6), sharey=True)\n",
    "\n",
    "ax = axs[0]\n",
    "ax.plot(vp, t)\n",
    "ax.set_ylim(0.6, 0)\n",
    "\n",
    "ax = axs[1]\n",
    "ax.plot(rho, t)\n",
    "\n",
    "ax = axs[2]\n",
    "ax.plot(R0, t[:-1], c='C1')\n",
    "\n",
    "ax = axs[3]\n",
    "ax.plot(syn, t[:-1], c='C2')\n",
    "\n",
    "plt.show()"
   ]
  },
  {
   "cell_type": "markdown",
   "metadata": {},
   "source": [
    "## Make interactive"
   ]
  },
  {
   "cell_type": "code",
   "execution_count": 21,
   "metadata": {},
   "outputs": [
    {
     "data": {
      "application/vnd.jupyter.widget-view+json": {
       "model_id": "7776e6e60fac4f95bbb407670974614a",
       "version_major": 2,
       "version_minor": 0
      },
      "text/plain": [
       "interactive(children=(IntSlider(value=30, description='f', max=60, min=4, step=4), Output()), _dom_classes=('w…"
      ]
     },
     "metadata": {},
     "output_type": "display_data"
    }
   ],
   "source": [
    "from ipywidgets import interact\n",
    "\n",
    "@interact(f=(4, 60, 4), )\n",
    "def make_plot(f=30):\n",
    "    \n",
    "    w = bg.filters.ricker(duration=0.4, dt=0.001, f=f)\n",
    "    syn = np.convolve(R0, w, mode='same')\n",
    "    \n",
    "    fig, axs = plt.subplots(ncols=4, figsize=(8, 6), sharey=True)\n",
    "\n",
    "    ax = axs[0]\n",
    "    ax.plot(vp, t)\n",
    "    ax.set_ylim(0.6, 0)\n",
    "    ax.set_title('Vp')\n",
    "\n",
    "    ax = axs[1]\n",
    "    ax.plot(rho, t)\n",
    "    ax.set_title('rho')\n",
    "\n",
    "    ax = axs[2]\n",
    "    ax.plot(R0, t[:-1], c='C1')\n",
    "    ax.set_title('R')\n",
    "\n",
    "    ax = axs[3]\n",
    "    ax.plot(syn, t[:-1], c='C2')\n",
    "    ax.set_title('syn')\n",
    "    \n",
    "    plt.show()\n",
    "    \n",
    "    return"
   ]
  },
  {
   "cell_type": "code",
   "execution_count": null,
   "metadata": {},
   "outputs": [],
   "source": []
  }
 ],
 "metadata": {
  "kernelspec": {
   "display_name": "geocomp",
   "language": "python",
   "name": "geocomp"
  },
  "language_info": {
   "codemirror_mode": {
    "name": "ipython",
    "version": 3
   },
   "file_extension": ".py",
   "mimetype": "text/x-python",
   "name": "python",
   "nbconvert_exporter": "python",
   "pygments_lexer": "ipython3",
   "version": "3.7.3"
  }
 },
 "nbformat": 4,
 "nbformat_minor": 2
}
