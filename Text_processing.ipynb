{
 "cells": [
  {
   "cell_type": "markdown",
   "metadata": {},
   "source": [
    "# Natural language processing in Mashape\n",
    "\n",
    "Let's start with some text from [a geological abstract from GAC 2015](http://www.gac.ca/wp/wp-content/uploads/2011/09/2015_Joint_Assembly_Abstract_Proceedings.pdf) (page 175)...\n",
    "\n",
    "- Abstract ID: 34562\n",
    "- Final Number: GP22A-03\n",
    "- Title: Ediacaran Paleomagnetism of Well-dated Units in Laurentia and West Avalonia: Implications for Models of Oscillatory True Polar Wander, Equatorial Dipoles and Rapid Continental Drift\n",
    "- Presenter/First Author: Kenneth L Buchan, Geological Survey of Canada, kbuchan@nrcan.gc.ca\n",
    "- Co-authors: Michael A Hamilton, University of Toronto, Toronto, ON, Canada; Joseph P Hodych, Memorial University, St. John'S, NL, Canada"
   ]
  },
  {
   "cell_type": "code",
   "execution_count": 24,
   "metadata": {
    "collapsed": true
   },
   "outputs": [],
   "source": [
    "t = \"\"\"Ediacaran paleomagnetic data from Laurentia are complex,\n",
    "with inclinations of presumed primary remanences that differ by up to 90°\n",
    "or more, often within single geological units. These unusual data have\n",
    "been variously interpreted as due to magnetic overprinting, very rapid\n",
    "continental drift, one or more episodes of oscillatory ~90° true polar\n",
    "wander (TPW), or unusual behaviour of the geomagnetic field such as an\n",
    "equatorial dipole. Here we review the Laurentia data in the 615-565 Ma\n",
    "period. The ages assigned to steep and normal components, if they are\n",
    "primary, appear to require at least two full oscillations during the period in\n",
    "question. There is growing evidence (especially from the Grenville and\n",
    "Rideau dyke swarms for which 9 precise U-Pb baddeleyite ages are now\n",
    "available) indicating that the magnetic directional changes are much too\n",
    "rapid to accommodate either rapid drift or TPW (using current theoretical\n",
    "models). In addition, the paleomagnetic data do not always conform to an\n",
    "equatorial dipole model in which paleopoles should differ by 90°. We also\n",
    "review the paleomagnetic data from well-dated (606-570 Ma) Ediacaran\n",
    "units of the West Avalonia microcontinent, which appear to be simpler\n",
    "than those from Laurentia. Unlike Laurentia units, individual units of West\n",
    "Avalonia usually carry a single presumed primary remanence direction (of\n",
    "dual polarity), rather than two discrete remanence directions or directions\n",
    "that are streaked along a great circle that might record rapid TPW. Large\n",
    "directional (mainly declination) changes between units are usually\n",
    "interpreted as due to block rotations, but alternatively could reflect TPW\n",
    "or unusual behaviour of the magnetic field. However, the corresponding\n",
    "paleopole changes are significantly less than the 90⁰ expected for an\n",
    "equatorial dipole model. Taken together, the Ediacaran Laurentia and\n",
    "Avalonia data do not appear consistent with current models of oscillatory\n",
    "TPW, an equatorial dipole or unusually fast drift.\"\"\""
   ]
  },
  {
   "cell_type": "markdown",
   "metadata": {},
   "source": [
    "We'll do a bit of preconditioning."
   ]
  },
  {
   "cell_type": "code",
   "execution_count": 25,
   "metadata": {
    "collapsed": false
   },
   "outputs": [
    {
     "data": {
      "text/plain": [
       "'Ediacaran+paleomagnetic+data+from+Laurentia+are+complex%2Cwith+inclinations+of+presumed+primary+remanences+that+differ+by+up+to+90+degrees+or+more%2C+often+within+single+geological+units.+These+unusual+data+havebeen+variously+interpreted+as+due+to+magnetic+overprinting%2C+very+rapidcontinental+drift%2C+one+or+more+episodes+of+oscillatory+%7E90+degrees++true+polarwander+%28TPW%29%2C+or+unusual+behaviour+of+the+geomagnetic+field+such+as+anequatorial+dipole.+Here+we+review+the+Laurentia+data+in+the+615-565+Maperiod.+The+ages+assigned+to+steep+and+normal+components%2C+if+they+areprimary%2C+appear+to+require+at+least+two+full+oscillations+during+the+period+inquestion.+There+is+growing+evidence+%28especially+from+the+Grenville+andRideau+dyke+swarms+for+which+9+precise+U-Pb+baddeleyite+ages+are+nowavailable%29+indicating+that+the+magnetic+directional+changes+are+much+toorapid+to+accommodate+either+rapid+drift+or+TPW+%28using+current+theoreticalmodels%29.+In+addition%2C+the+paleomagnetic+data+do+not+always+conform+to+anequatorial+dipole+model+in+which+paleopoles+should+differ+by+90+degrees+.+We+alsoreview+the+paleomagnetic+data+from+well-dated+%28606-570+Ma%29+Ediacaranunits+of+the+West+Avalonia+microcontinent%2C+which+appear+to+be+simplerthan+those+from+Laurentia.+Unlike+Laurentia+units%2C+individual+units+of+WestAvalonia+usually+carry+a+single+presumed+primary+remanence+direction+%28ofdual+polarity%29%2C+rather+than+two+discrete+remanence+directions+or+directionsthat+are+streaked+along+a+great+circle+that+might+record+rapid+TPW.+Largedirectional+%28mainly+declination%29+changes+between+units+are+usuallyinterpreted+as+due+to+block+rotations%2C+but+alternatively+could+reflect+TPWor+unusual+behaviour+of+the+magnetic+field.+However%2C+the+correspondingpaleopole+changes+are+significantly+less+than+the+90%E2%81%B0+expected+for+anequatorial+dipole+model.+Taken+together%2C+the+Ediacaran+Laurentia+andAvalonia+data+do+not+appear+consistent+with+current+models+of+oscillatoryTPW%2C+an+equatorial+dipole+or+unusually+fast+drift.'"
      ]
     },
     "execution_count": 25,
     "metadata": {},
     "output_type": "execute_result"
    }
   ],
   "source": [
    "import urllib\n",
    "import re\n",
    "\n",
    "t = re.sub(r'\\n', '', t)\n",
    "t = re.sub(r'°', ' degrees ', t)\n",
    "\n",
    "text = urllib.quote_plus(t)\n",
    "text"
   ]
  },
  {
   "cell_type": "markdown",
   "metadata": {},
   "source": [
    "## Summarization"
   ]
  },
  {
   "cell_type": "code",
   "execution_count": 26,
   "metadata": {
    "collapsed": true
   },
   "outputs": [],
   "source": [
    "key = \"JUszV7CDvTmsh65f2FK2MvVbTtIEp1ORgdojsnnuE3IOCjh2Na\""
   ]
  },
  {
   "cell_type": "code",
   "execution_count": 31,
   "metadata": {
    "collapsed": true
   },
   "outputs": [],
   "source": [
    "url = \"https://aylien-text.p.mashape.com/summarize\"\n",
    "params = {'text': text,\n",
    "          'title': 'Title'}"
   ]
  },
  {
   "cell_type": "code",
   "execution_count": 32,
   "metadata": {
    "collapsed": false
   },
   "outputs": [],
   "source": [
    "import unirest\n",
    "\n",
    "response = unirest.get(url,\n",
    "  headers={\n",
    "    \"X-Mashape-Key\": key,\n",
    "    \"Accept\": \"application/json\"\n",
    "  },\n",
    "  params=params\n",
    ")"
   ]
  },
  {
   "cell_type": "code",
   "execution_count": 33,
   "metadata": {
    "collapsed": false
   },
   "outputs": [
    {
     "data": {
      "text/plain": [
       "200"
      ]
     },
     "execution_count": 33,
     "metadata": {},
     "output_type": "execute_result"
    }
   ],
   "source": [
    "response.code"
   ]
  },
  {
   "cell_type": "code",
   "execution_count": 34,
   "metadata": {
    "collapsed": false
   },
   "outputs": [
    {
     "data": {
      "text/plain": [
       "[u'Ediacaran paleomagnetic data from Laurentia are complex,with inclinations of presumed primary remanences that differ by up to 90 degrees or more, often within single geological units.',\n",
       " u'These unusual data havebeen variously interpreted as due to magnetic overprinting, very rapidcontinental drift, one or more episodes of oscillatory ~90 degrees  true polarwander (TPW), or unusual behaviour of the geomagnetic field such as anequatorial dipole.',\n",
       " u'In addition, the paleomagnetic data do not always conform to anequatorial dipole model in which paleopoles should differ by 90 degrees .',\n",
       " u'Unlike Laurentia units, individual units of WestAvalonia usually carry a single presumed primary remanence direction (ofdual polarity), rather than two discrete remanence directions or directionsthat are streaked along a great circle that might record rapid TPW.',\n",
       " u'Taken together, the Ediacaran Laurentia andAvalonia data do not appear consistent with current models of oscillatoryTPW, an equatorial dipole or unusually fast drift.']"
      ]
     },
     "execution_count": 34,
     "metadata": {},
     "output_type": "execute_result"
    }
   ],
   "source": [
    "response.body['sentences']"
   ]
  },
  {
   "cell_type": "markdown",
   "metadata": {},
   "source": [
    "## Readability metrics"
   ]
  },
  {
   "cell_type": "code",
   "execution_count": 45,
   "metadata": {
    "collapsed": false
   },
   "outputs": [
    {
     "data": {
      "text/plain": [
       "'Ediacaran+paleomagnetic+data+from+Laurentia+are+complex%2Cwith+inclinations+of+presumed+primary+remanences+that+differ+by+up+to+90+degrees+or+more%2C+often+within+single+geological+units.+These+unusual+data+havebeen+variously+interpreted+as+due+to+magnetic+overprinting%2C+very+rapidcontinental+drift%2C+one+or+more+episodes+of+oscillatory+%7E90+degrees++true+polarwander+%28TPW%29%2C+or+unusual+behaviour+of+the+geomagnetic+field+such+as+anequatorial+dipole.+Here+we+review+the+Laurentia+data+in+the+615-565+Maperiod.+The+ages+assigned+to+steep+and+normal+components%2C+if+they+areprimary%2C+appear+to+require+at+least+two+full+oscillations+during+the+period+inquestion.+There+is+growing+evidence+%28especially+from+the+Grenville+andRideau+dyke+swarms+for+which+9+precise+U-Pb+baddeleyite+ages+are+nowavailable%29+indicating+that+the+magnetic+directional+changes+are+much+toorapid+to+accommodate+either+rapid+drift+or+TPW+%28using+current+theoreticalmodels%29.+In+addition%2C+the+paleomagnetic+data+do+not+always+conform+to+anequatorial+dipole+model+in+which+paleopoles+should+differ+by+90+degrees+.+We+alsoreview+the+paleomagnetic+data+from+well-dated+%28606-570+Ma%29+Ediacaranunits+of+the+West+Avalonia+microcontinent%2C+which+appear+to+be+simplerthan+those+from+Laurentia.+Unlike+Laurentia+units%2C+individual+units+of+WestAvalonia+usually+carry+a+single+presumed+primary+remanence+direction+%28ofdual+polarity%29%2C+rather+than+two+discrete+remanence+directions+or+directionsthat+are+streaked+along+a+great+circle+that+might+record+rapid+TPW.+Largedirectional+%28mainly+declination%29+changes+between+units+are+usuallyinterpreted+as+due+to+block+rotations%2C+but+alternatively+could+reflect+TPWor+unusual+behaviour+of+the+magnetic+field.+However%2C+the+correspondingpaleopole+changes+are+significantly+less+than+the+90%E2%81%B0+expected+for+anequatorial+dipole+model.+Taken+together%2C+the+Ediacaran+Laurentia+andAvalonia+data+do+not+appear+consistent+with+current+models+of+oscillatoryTPW%2C+an+equatorial+dipole+or+unusually+fast+drift.'"
      ]
     },
     "execution_count": 45,
     "metadata": {},
     "output_type": "execute_result"
    }
   ],
   "source": [
    "import urllib\n",
    "\n",
    "text = urllib.quote_plus(t)\n",
    "text"
   ]
  },
  {
   "cell_type": "code",
   "execution_count": 46,
   "metadata": {
    "collapsed": true
   },
   "outputs": [],
   "source": [
    "url = \"https://ipeirotis-readability-metrics.p.mashape.com/getReadabilityMetrics\"\n",
    "params = {'text': text}\n",
    "headers = {\"X-Mashape-Key\": key,  # Your private Mashape key\n",
    "           \"Content-Type\": \"application/x-www-form-urlencoded\",\n",
    "           \"Accept\": \"application/json\"\n",
    "          }"
   ]
  },
  {
   "cell_type": "code",
   "execution_count": 47,
   "metadata": {
    "collapsed": true
   },
   "outputs": [],
   "source": [
    "response = unirest.post(url, headers=headers, params=params)"
   ]
  },
  {
   "cell_type": "code",
   "execution_count": 48,
   "metadata": {
    "collapsed": false
   },
   "outputs": [
    {
     "data": {
      "text/plain": [
       "{u'ARI': 19.298,\n",
       " u'CHARACTERS': 1638.0,\n",
       " u'COLEMAN_LIAU': 18.67,\n",
       " u'COMPLEXWORDS': 84.0,\n",
       " u'FLESCH_KINCAID': 19.085,\n",
       " u'FLESCH_READING': 2.273,\n",
       " u'GUNNING_FOG': 21.6,\n",
       " u'SENTENCES': 11.0,\n",
       " u'SMOG': 18.916,\n",
       " u'SMOG_INDEX': 18.136,\n",
       " u'SYLLABLES': 577.0,\n",
       " u'WORDS': 272.0,\n",
       " u'etag': u'\"to4mFGVXeFl3UYs8Sp68GrRZqEw/ttfvo_KN_x_BV_bKRXzI0NFL6LI\"',\n",
       " u'kind': u'readability#resourcesItem'}"
      ]
     },
     "execution_count": 48,
     "metadata": {},
     "output_type": "execute_result"
    }
   ],
   "source": [
    "response.body"
   ]
  },
  {
   "cell_type": "markdown",
   "metadata": {},
   "source": [
    "## Sentence case"
   ]
  },
  {
   "cell_type": "code",
   "execution_count": 55,
   "metadata": {
    "collapsed": false
   },
   "outputs": [],
   "source": [
    "title = \"Ediacaran Paleomagnetism of Well-dated Units in Laurentia and West Avalonia: Implications for Models of Oscillatory True Polar Wander, Equatorial Dipoles and Rapid Continental Drift\"\n",
    "\n",
    "url = \"https://sprawkcapitalizer.p.mashape.com/api/applyCaps\"\n",
    "params = {'text': title,\n",
    "          'lang': 'autoDetect',\n",
    "          'mode': 'sentence'}\n",
    "headers = {\"X-Mashape-Key\": key,  # Your private Mashape key\n",
    "           \"Accept\": \"text/plain\"\n",
    "          }\n",
    "\n",
    "response = unirest.post(url, headers=headers, params=params)"
   ]
  },
  {
   "cell_type": "code",
   "execution_count": 56,
   "metadata": {
    "collapsed": false
   },
   "outputs": [
    {
     "data": {
      "text/plain": [
       "'Ediacaran Paleomagnetism of well-dated units in Laurentia and West Avalonia: implications for models of oscillatory true polar wander, Equatorial dipoles and rapid continental drift'"
      ]
     },
     "execution_count": 56,
     "metadata": {},
     "output_type": "execute_result"
    }
   ],
   "source": [
    "response.body"
   ]
  },
  {
   "cell_type": "markdown",
   "metadata": {},
   "source": [
    "Almost but not quite."
   ]
  },
  {
   "cell_type": "code",
   "execution_count": 57,
   "metadata": {
    "collapsed": true
   },
   "outputs": [],
   "source": [
    "title = \"Giant Dinosaurs Found in Utah at Smith's Canyon\"\n",
    "params = {'text': title,\n",
    "          'lang': 'autoDetect',\n",
    "          'mode': 'sentence'}\n",
    "response = unirest.post(url, headers=headers, params=params)"
   ]
  },
  {
   "cell_type": "code",
   "execution_count": 58,
   "metadata": {
    "collapsed": false
   },
   "outputs": [
    {
     "data": {
      "text/plain": [
       "\"Giant dinosaurs found in Utah at Smith's Canyon\""
      ]
     },
     "execution_count": 58,
     "metadata": {},
     "output_type": "execute_result"
    }
   ],
   "source": [
    "response.body"
   ]
  },
  {
   "cell_type": "markdown",
   "metadata": {},
   "source": [
    "##Key noun phrase extraction"
   ]
  },
  {
   "cell_type": "code",
   "execution_count": 59,
   "metadata": {
    "collapsed": false
   },
   "outputs": [
    {
     "data": {
      "text/plain": [
       "{u'noun_phrases': [u'ediacaran',\n",
       "  u'paleomagnetic data',\n",
       "  u'laurentia',\n",
       "  u'primary remanences',\n",
       "  u'geological units',\n",
       "  u'unusual data havebeen',\n",
       "  u'rapidcontinental drift',\n",
       "  u'oscillatory ~90 degrees',\n",
       "  u'true polarwander',\n",
       "  u'tpw',\n",
       "  u'unusual behaviour',\n",
       "  u'geomagnetic field',\n",
       "  u'anequatorial dipole',\n",
       "  u'laurentia',\n",
       "  u'maperiod',\n",
       "  u'normal components',\n",
       "  u'full oscillations',\n",
       "  u'period inquestion',\n",
       "  u'grenville',\n",
       "  u'andrideau dyke swarms',\n",
       "  u'u-pb',\n",
       "  u'baddeleyite ages',\n",
       "  u'magnetic directional changes',\n",
       "  u'rapid drift',\n",
       "  u'tpw',\n",
       "  u'current theoreticalmodels',\n",
       "  u'paleomagnetic data',\n",
       "  u'anequatorial dipole model',\n",
       "  u'paleomagnetic data',\n",
       "  u'ma',\n",
       "  u'ediacaranunits',\n",
       "  u'avalonia',\n",
       "  u'laurentia',\n",
       "  u'laurentia',\n",
       "  u'individual units',\n",
       "  u'westavalonia',\n",
       "  u'primary remanence direction',\n",
       "  u'ofdual polarity',\n",
       "  u'discrete remanence directions',\n",
       "  u'great circle',\n",
       "  u'tpw',\n",
       "  u'largedirectional',\n",
       "  u'tpwor',\n",
       "  u'unusual behaviour',\n",
       "  u'magnetic field',\n",
       "  u'correspondingpaleopole changes',\n",
       "  u'anequatorial dipole model',\n",
       "  u'taken',\n",
       "  u'ediacaran laurentia',\n",
       "  u'andavalonia data',\n",
       "  u'current models',\n",
       "  u'equatorial dipole']}"
      ]
     },
     "execution_count": 59,
     "metadata": {},
     "output_type": "execute_result"
    }
   ],
   "source": [
    "url = \"https://textanalysis.p.mashape.com/textblob-noun-phrase-extraction\"\n",
    "params = {'text': text}\n",
    "headers = {\"X-Mashape-Key\": key,  # Your private Mashape key\n",
    "           \"Content-Type\": \"application/x-www-form-urlencoded\",\n",
    "           \"Accept\": \"application/json\"\n",
    "          }\n",
    "\n",
    "response = unirest.post(url, headers=headers, params=params)\n",
    "response.body"
   ]
  },
  {
   "cell_type": "markdown",
   "metadata": {},
   "source": [
    "## Parts-of-speech tagging"
   ]
  },
  {
   "cell_type": "code",
   "execution_count": 60,
   "metadata": {
    "collapsed": false
   },
   "outputs": [
    {
     "data": {
      "text/plain": [
       "{u'result': u'Ediacaran/NNP paleomagnetic/JJ data/NNS from/IN Laurentia/NNP are/VBP complex/JJ ,/, with/IN inclinations/NNS of/IN presumed/JJ primary/JJ remanences/NNS that/WDT differ/VBP by/IN up/IN to/TO 90/CD degrees/NNS or/CC more/JJR ,/, often/RB within/IN single/JJ geological/JJ units/NNS ./.\\nThese/DT unusual/JJ data/NN havebeen/NN variously/RB interpreted/VBN as/IN due/JJ to/TO magnetic/JJ overprinting/NN ,/, very/RB rapidcontinental/JJ drift/NN ,/, one/CD or/CC more/JJR episodes/NNS of/IN oscillatory/JJ ~/SYM 90/CD degrees/NNS true/JJ polarwander/NN (/( TPW/NNP )/) ,/, or/CC unusual/JJ behaviour/NN of/IN the/DT geomagnetic/JJ field/NN such/JJ as/IN anequatorial/JJ dipole/NN ./.\\nHere/RB we/PRP review/VB the/DT Laurentia/NNP data/NNS in/IN the/DT 615-565/CD Maperiod/NNP ./.\\nThe/DT ages/NNS assigned/VBN to/TO steep/JJ and/CC normal/JJ components/NNS ,/, if/IN they/PRP areprimary/VBP ,/, appear/VB to/TO require/VB at/IN least/JJS two/CD full/JJ oscillations/NNS during/IN the/DT period/NN inquestion/NN ./.\\nThere/EX is/VBZ growing/VBG evidence/NN (/( especially/RB from/IN the/DT Grenville/NNP andRideau/NN dyke/NN swarms/NNS for/IN which/WDT 9/CD precise/JJ U-Pb/JJ baddeleyite/NN ages/NNS are/VBP nowavailable/JJ )/) indicating/VBG that/IN the/DT magnetic/JJ directional/JJ changes/NNS are/VBP much/RB toorapid/JJ to/TO accommodate/VB either/CC rapid/JJ drift/VBP or/CC TPW/NNP (/( using/VBG current/JJ theoreticalmodels/NNS )/) ./.\\nIn/IN addition/NN ,/, the/DT paleomagnetic/JJ data/NNS do/VBP not/RB always/RB conform/VB to/TO anequatorial/VB dipole/JJ model/NN in/IN which/WDT paleopoles/NNS should/MD differ/VB by/IN 90/CD degrees/NNS ./.\\nWe/PRP alsoreview/VBP the/DT paleomagnetic/JJ data/NN from/IN well-dated/JJ (606-570/CD Ma/NNP )/) Ediacaranunits/NNS of/IN the/DT West/NNP Avalonia/NNP microcontinent/NN ,/, which/WDT appear/VBP to/TO be/VB simplerthan/VBN those/DT from/IN Laurentia/NNP ./.\\nUnlike/IN Laurentia/JJ units/NNS ,/, individual/JJ units/NNS of/IN WestAvalonia/NNP usually/RB carry/VBP a/DT single/JJ presumed/VBN primary/JJ remanence/NN direction/NN (/( ofdual/JJ polarity/NN )/) ,/, rather/RB than/IN two/CD discrete/JJ remanence/NN directions/NNS or/CC directionsthat/NN are/VBP streaked/VBN along/IN a/DT great/JJ circle/NN that/WDT might/MD record/VB rapid/JJ TPW/NNP ./.\\nLargedirectional/NNP (/( mainly/RB declination/JJ )/) changes/VBZ between/IN units/NNS are/VBP usuallyinterpreted/VBN as/IN due/JJ to/TO block/VB rotations/NNS ,/, but/CC alternatively/RB could/MD reflect/VB TPWor/NNP unusual/NN behaviour/NN of/IN the/DT magnetic/JJ field/NN ./.\\nHowever/RB ,/, the/DT correspondingpaleopole/JJ changes/NNS are/VBP significantly/RB less/JJR than/IN the/DT 90\\u2070/CD expected/VBN for/IN anequatorial/JJ dipole/JJ model/NN ./.\\nTaken/VBN together/RB ,/, the/DT Ediacaran/NNP Laurentia/NNP andAvalonia/NN data/NNS do/VBP not/RB appear/VB consistent/JJ with/IN current/JJ models/NNS of/IN oscillatoryTPW/NN ,/, an/DT equatorial/JJ dipole/NN or/CC unusually/RB fast/JJ drift/NN ./.'}"
      ]
     },
     "execution_count": 60,
     "metadata": {},
     "output_type": "execute_result"
    }
   ],
   "source": [
    "url = \"https://textanalysis.p.mashape.com/mbsp-pos-tagging\"\n",
    "params = {'text': text}\n",
    "headers = {\"X-Mashape-Key\": key,  # Your private Mashape key\n",
    "           \"Content-Type\": \"application/x-www-form-urlencoded\",\n",
    "           \"Accept\": \"application/json\"\n",
    "          }\n",
    "\n",
    "response = unirest.post(url, headers=headers, params=params)\n",
    "response.body"
   ]
  },
  {
   "cell_type": "markdown",
   "metadata": {},
   "source": [
    "<img src=\"https://dl.dropboxusercontent.com/u/14965965/MBSP_POS.png\" />"
   ]
  },
  {
   "cell_type": "markdown",
   "metadata": {},
   "source": [
    "Chunk tagging might be more useful for cuttings descriptions:"
   ]
  },
  {
   "cell_type": "code",
   "execution_count": 61,
   "metadata": {
    "collapsed": false
   },
   "outputs": [
    {
     "data": {
      "text/plain": [
       "{u'result': u'Ediacaran/NNP/I-NP/O paleomagnetic/JJ/I-NP/O data/NNS/I-NP/O from/IN/I-PP/B-PNP Laurentia/NNP/I-NP/I-PNP are/VBP/I-VP/O complex/JJ/I-ADJP/O ,/,/O/O with/IN/I-PP/B-PNP inclinations/NNS/I-NP/I-PNP of/IN/I-PP/B-PNP presumed/JJ/I-NP/I-PNP primary/JJ/I-NP/I-PNP remanences/NNS/I-NP/I-PNP that/WDT/B-NP/O differ/VBP/I-VP/O by/IN/I-PP/B-PNP up/IN/I-NP/I-PNP to/TO/I-NP/I-PNP 90/CD/I-NP/I-PNP degrees/NNS/I-NP/I-PNP or/CC/I-NP/I-PNP more/JJR/I-NP/I-PNP ,/,/O/O often/RB/I-ADVP/O within/IN/I-PP/B-PNP single/JJ/I-NP/I-PNP geological/JJ/I-NP/I-PNP units/NNS/I-NP/I-PNP ././O/O\\nThese/DT/I-NP/O unusual/JJ/I-NP/O data/NN/I-NP/O havebeen/NN/I-NP/O variously/RB/I-ADVP/O interpreted/VBN/I-VP/O as/IN/I-PP/O due/JJ/I-ADJP/O to/TO/I-PP/B-PNP magnetic/JJ/I-NP/I-PNP overprinting/NN/I-NP/I-PNP ,/,/O/O very/RB/I-ADVP/O rapidcontinental/JJ/I-NP/O drift/NN/I-NP/O ,/,/O/O one/CD/I-NP/O or/CC/I-NP/O more/JJR/I-NP/O episodes/NNS/I-NP/O of/IN/I-PP/B-PNP oscillatory/JJ/I-NP/I-PNP ~/SYM/O/O 90/CD/I-NP/O degrees/NNS/I-NP/O true/JJ/I-ADJP/O polarwander/NN/I-NP/O (/(/O/O TPW/NNP/I-NP/O )/)/O/O ,/,/O/O or/CC/O/O unusual/JJ/I-NP/O behaviour/NN/I-NP/O of/IN/I-PP/B-PNP the/DT/I-NP/I-PNP geomagnetic/JJ/I-NP/I-PNP field/NN/I-NP/I-PNP such/JJ/I-PP/B-PNP as/IN/I-PP/I-PNP anequatorial/JJ/I-NP/I-PNP dipole/NN/I-NP/I-PNP ././O/O\\nHere/RB/I-ADVP/O we/PRP/I-NP/O review/VB/I-VP/O the/DT/I-NP/O Laurentia/NNP/I-NP/O data/NNS/I-NP/O in/IN/I-PP/B-PNP the/DT/I-NP/I-PNP 615-565/CD/I-NP/I-PNP Maperiod/NNP/I-NP/I-PNP ././O/O\\nThe/DT/I-NP/O ages/NNS/I-NP/O assigned/VBN/I-VP/O to/TO/I-PP/B-PNP steep/JJ/I-NP/I-PNP and/CC/I-NP/I-PNP normal/JJ/I-NP/I-PNP components/NNS/I-NP/I-PNP ,/,/O/O if/IN/I-SBAR/O they/PRP/I-NP/O areprimary/VBP/I-VP/O ,/,/O/O appear/VB/I-VP/O to/TO/I-VP/O require/VB/I-VP/O at/IN/I-NP/O least/JJS/I-NP/O two/CD/I-NP/O full/JJ/I-NP/O oscillations/NNS/I-NP/O during/IN/I-PP/B-PNP the/DT/I-NP/I-PNP period/NN/I-NP/I-PNP inquestion/NN/I-NP/I-PNP ././O/O\\nThere/EX/I-NP/O is/VBZ/I-VP/O growing/VBG/I-VP/O evidence/NN/I-NP/O (/(/O/O especially/RB/I-ADVP/O from/IN/I-PP/B-PNP the/DT/I-NP/I-PNP Grenville/NNP/I-NP/I-PNP andRideau/NN/I-NP/I-PNP dyke/NN/I-NP/I-PNP swarms/NNS/I-NP/I-PNP for/IN/I-PP/B-PNP which/WDT/I-NP/I-PNP 9/CD/B-NP/O precise/JJ/I-NP/O U-Pb/JJ/I-NP/O baddeleyite/NN/I-NP/O ages/NNS/I-NP/O are/VBP/I-VP/O nowavailable/JJ/I-ADJP/O )/)/O/O indicating/VBG/I-VP/O that/IN/I-SBAR/O the/DT/I-NP/O magnetic/JJ/I-NP/O directional/JJ/I-NP/O changes/NNS/I-NP/O are/VBP/I-VP/O much/RB/I-ADJP/O toorapid/JJ/I-ADJP/O to/TO/I-VP/O accommodate/VB/I-VP/O either/CC/I-ADJP/O rapid/JJ/I-ADJP/O drift/VBP/I-VP/O or/CC/O/O TPW/NNP/I-NP/O (/(/O/O using/VBG/I-VP/O current/JJ/I-NP/O theoreticalmodels/NNS/I-NP/O )/)/O/O ././O/O\\nIn/IN/I-PP/B-PNP addition/NN/I-NP/I-PNP ,/,/O/O the/DT/I-NP/O paleomagnetic/JJ/I-NP/O data/NNS/I-NP/O do/VBP/I-VP/O not/RB/I-VP/O always/RB/I-VP/O conform/VB/I-VP/O to/TO/I-VP/O anequatorial/VB/I-VP/O dipole/JJ/I-NP/O model/NN/I-NP/O in/IN/I-PP/B-PNP which/WDT/I-NP/I-PNP paleopoles/NNS/B-NP/O should/MD/I-VP/O differ/VB/I-VP/O by/IN/I-PP/B-PNP 90/CD/I-NP/I-PNP degrees/NNS/I-NP/I-PNP ././O/O\\nWe/PRP/I-NP/O alsoreview/VBP/I-VP/O the/DT/I-NP/O paleomagnetic/JJ/I-NP/O data/NN/I-NP/O from/IN/I-PP/B-PNP well-dated/JJ/I-NP/I-PNP (606-570/CD/I-NP/I-PNP Ma/NNP/I-NP/I-PNP )/)/O/O Ediacaranunits/NNS/I-NP/O of/IN/I-PP/B-PNP the/DT/I-NP/I-PNP West/NNP/I-NP/I-PNP Avalonia/NNP/I-NP/I-PNP microcontinent/NN/I-NP/I-PNP ,/,/O/O which/WDT/I-NP/O appear/VBP/I-VP/O to/TO/I-VP/O be/VB/I-VP/O simplerthan/VBN/I-VP/O those/DT/I-NP/O from/IN/I-PP/B-PNP Laurentia/NNP/I-NP/I-PNP ././O/O\\nUnlike/IN/I-PP/B-PNP Laurentia/JJ/I-NP/I-PNP units/NNS/I-NP/I-PNP ,/,/O/O individual/JJ/I-NP/O units/NNS/I-NP/O of/IN/I-PP/B-PNP WestAvalonia/NNP/I-NP/I-PNP usually/RB/I-ADVP/O carry/VBP/I-VP/O a/DT/I-NP/O single/JJ/I-NP/O presumed/VBN/I-NP/O primary/JJ/I-NP/O remanence/NN/I-NP/O direction/NN/I-NP/O (/(/O/O ofdual/JJ/I-NP/O polarity/NN/I-NP/O )/)/O/O ,/,/O/O rather/RB/I-PP/B-PNP than/IN/I-PP/I-PNP two/CD/I-NP/I-PNP discrete/JJ/I-NP/I-PNP remanence/NN/I-NP/I-PNP directions/NNS/I-NP/I-PNP or/CC/I-NP/I-PNP directionsthat/NN/I-NP/I-PNP are/VBP/I-VP/O streaked/VBN/I-VP/O along/IN/I-PP/B-PNP a/DT/I-NP/I-PNP great/JJ/I-NP/I-PNP circle/NN/I-NP/I-PNP that/WDT/B-NP/O might/MD/I-VP/O record/VB/I-VP/O rapid/JJ/I-NP/O TPW/NNP/I-NP/O ././O/O\\nLargedirectional/NNP/I-NP/O (/(/O/O mainly/RB/I-ADJP/O declination/JJ/I-ADJP/O )/)/O/O changes/VBZ/I-VP/O between/IN/I-PP/B-PNP units/NNS/I-NP/I-PNP are/VBP/I-VP/O usuallyinterpreted/VBN/I-VP/O as/IN/I-PP/O due/JJ/I-ADJP/O to/TO/I-VP/O block/VB/I-VP/O rotations/NNS/I-NP/O ,/,/O/O but/CC/O/O alternatively/RB/I-ADVP/O could/MD/I-VP/O reflect/VB/I-VP/O TPWor/NNP/I-NP/O unusual/NN/I-NP/O behaviour/NN/I-NP/O of/IN/I-PP/B-PNP the/DT/I-NP/I-PNP magnetic/JJ/I-NP/I-PNP field/NN/I-NP/I-PNP ././O/O\\nHowever/RB/I-ADVP/O ,/,/O/O the/DT/I-NP/O correspondingpaleopole/JJ/I-NP/O changes/NNS/I-NP/O are/VBP/I-VP/O significantly/RB/I-ADJP/O less/JJR/I-ADJP/O than/IN/I-PP/B-PNP the/DT/I-NP/I-PNP 90\\u2070/CD/I-NP/I-PNP expected/VBN/I-VP/O for/IN/I-PP/B-PNP anequatorial/JJ/I-NP/I-PNP dipole/JJ/I-NP/I-PNP model/NN/I-NP/I-PNP ././O/O\\nTaken/VBN/I-VP/O together/RB/I-ADVP/O ,/,/O/O the/DT/I-NP/O Ediacaran/NNP/I-NP/O Laurentia/NNP/I-NP/O andAvalonia/NN/I-NP/O data/NNS/I-NP/O do/VBP/I-VP/O not/RB/I-VP/O appear/VB/I-VP/O consistent/JJ/I-ADJP/O with/IN/I-PP/B-PNP current/JJ/I-NP/I-PNP models/NNS/I-NP/I-PNP of/IN/I-PP/B-PNP oscillatoryTPW/NN/I-NP/I-PNP ,/,/O/O an/DT/I-NP/O equatorial/JJ/I-NP/O dipole/NN/I-NP/O or/CC/O/O unusually/RB/I-NP/O fast/JJ/I-NP/O drift/NN/I-NP/O ././O/O'}"
      ]
     },
     "execution_count": 61,
     "metadata": {},
     "output_type": "execute_result"
    }
   ],
   "source": [
    "url = \"https://textanalysis.p.mashape.com/mbsp-chunk\"\n",
    "params = {'text': text}\n",
    "headers = {\"X-Mashape-Key\": key,  # Your private Mashape key\n",
    "           \"Content-Type\": \"application/x-www-form-urlencoded\",\n",
    "           \"Accept\": \"application/json\"\n",
    "          }\n",
    "\n",
    "response = unirest.post(url, headers=headers, params=params)\n",
    "response.body"
   ]
  },
  {
   "cell_type": "markdown",
   "metadata": {},
   "source": [
    "To make sense of this, see '''Chunk tags''' on [this help page](http://www.clips.ua.ac.be/pages/mbsp-tags)."
   ]
  },
  {
   "cell_type": "code",
   "execution_count": null,
   "metadata": {
    "collapsed": true
   },
   "outputs": [],
   "source": []
  }
 ],
 "metadata": {
  "kernelspec": {
   "display_name": "Python 2",
   "language": "python",
   "name": "python2"
  },
  "language_info": {
   "codemirror_mode": {
    "name": "ipython",
    "version": 2
   },
   "file_extension": ".py",
   "mimetype": "text/x-python",
   "name": "python",
   "nbconvert_exporter": "python",
   "pygments_lexer": "ipython2",
   "version": "2.7.9"
  }
 },
 "nbformat": 4,
 "nbformat_minor": 0
}
