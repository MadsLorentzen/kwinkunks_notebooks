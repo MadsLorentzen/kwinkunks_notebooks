{
 "cells": [
  {
   "cell_type": "markdown",
   "metadata": {},
   "source": [
    "You will need to generate a private key at Mashape, then you can use it here."
   ]
  },
  {
   "cell_type": "code",
   "execution_count": 11,
   "metadata": {},
   "outputs": [],
   "source": [
    "# I keep mine in another file, which is not sent to GitHub\n",
    "# Or put yours in the string 'key' below\n",
    "try:\n",
    "    from secrets import mashape as key\n",
    "    from secrets import mashape_old as key2\n",
    "except ImportError as e:\n",
    "    key = \" KEY GOES HERE \""
   ]
  },
  {
   "cell_type": "markdown",
   "metadata": {},
   "source": [
    "# Start with some sample text\n",
    "Let's start with some text from [a geological abstract from GAC 2015](http://www.gac.ca/wp/wp-content/uploads/2011/09/2015_Joint_Assembly_Abstract_Proceedings.pdf) (page 175)...\n",
    "\n",
    "- Abstract ID: 34562\n",
    "- Final Number: GP22A-03\n",
    "- Title: Ediacaran Paleomagnetism of Well-dated Units in Laurentia and West Avalonia: Implications for Models of Oscillatory True Polar Wander, Equatorial Dipoles and Rapid Continental Drift\n",
    "- Presenter/First Author: Kenneth L Buchan, Geological Survey of Canada, kbuchan@nrcan.gc.ca\n",
    "- Co-authors: Michael A Hamilton, University of Toronto, Toronto, ON, Canada; Joseph P Hodych, Memorial University, St. John'S, NL, Canada"
   ]
  },
  {
   "cell_type": "code",
   "execution_count": 2,
   "metadata": {},
   "outputs": [],
   "source": [
    "t = \"\"\"Ediacaran paleomagnetic data from Laurentia are complex,\n",
    "with inclinations of presumed primary remanences that differ by up to 90°\n",
    "or more, often within single geological units. These unusual data have\n",
    "been variously interpreted as due to magnetic overprinting, very rapid\n",
    "continental drift, one or more episodes of oscillatory ~90° true polar\n",
    "wander (TPW), or unusual behaviour of the geomagnetic field such as an\n",
    "equatorial dipole. Here we review the Laurentia data in the 615-565 Ma\n",
    "period. The ages assigned to steep and normal components, if they are\n",
    "primary, appear to require at least two full oscillations during the period in\n",
    "question. There is growing evidence (especially from the Grenville and\n",
    "Rideau dyke swarms for which 9 precise U-Pb baddeleyite ages are now\n",
    "available) indicating that the magnetic directional changes are much too\n",
    "rapid to accommodate either rapid drift or TPW (using current theoretical\n",
    "models). In addition, the paleomagnetic data do not always conform to an\n",
    "equatorial dipole model in which paleopoles should differ by 90°. We also\n",
    "review the paleomagnetic data from well-dated (606-570 Ma) Ediacaran\n",
    "units of the West Avalonia microcontinent, which appear to be simpler\n",
    "than those from Laurentia. Unlike Laurentia units, individual units of West\n",
    "Avalonia usually carry a single presumed primary remanence direction (of\n",
    "dual polarity), rather than two discrete remanence directions or directions\n",
    "that are streaked along a great circle that might record rapid TPW. Large\n",
    "directional (mainly declination) changes between units are usually\n",
    "interpreted as due to block rotations, but alternatively could reflect TPW\n",
    "or unusual behaviour of the magnetic field. However, the corresponding\n",
    "paleopole changes are significantly less than the 90⁰ expected for an\n",
    "equatorial dipole model. Taken together, the Ediacaran Laurentia and\n",
    "Avalonia data do not appear consistent with current models of oscillatory\n",
    "TPW, an equatorial dipole or unusually fast drift.\"\"\""
   ]
  },
  {
   "cell_type": "markdown",
   "metadata": {},
   "source": [
    "We'll do a bit of preconditioning."
   ]
  },
  {
   "cell_type": "code",
   "execution_count": 3,
   "metadata": {},
   "outputs": [],
   "source": [
    "import urllib\n",
    "import re\n",
    "\n",
    "t = re.sub(r'\\n', '', t)\n",
    "t = re.sub(r'°', ' degrees ', t)\n",
    "\n",
    "#text = urllib.quote_plus(t)\n",
    "text = t"
   ]
  },
  {
   "cell_type": "markdown",
   "metadata": {},
   "source": [
    "## Sentiment"
   ]
  },
  {
   "cell_type": "code",
   "execution_count": 18,
   "metadata": {},
   "outputs": [],
   "source": [
    "import requests\n",
    "\n",
    "response = requests.post(\"https://sentinelprojects-skyttle20.p.mashape.com/\",\n",
    "  headers={\n",
    "    \"X-Mashape-Key\": key2,\n",
    "    \"Content-Type\": \"application/x-www-form-urlencoded\",\n",
    "    \"Accept\": \"application/json\"\n",
    "  },\n",
    "  params={\n",
    "    \"annotate\": 1,\n",
    "    \"keywords\": 1,\n",
    "    \"lang\": \"en\",\n",
    "    \"sentiment\": 1,\n",
    "    \"text\": text,\n",
    "  }\n",
    ")"
   ]
  },
  {
   "cell_type": "code",
   "execution_count": 21,
   "metadata": {},
   "outputs": [],
   "source": [
    "# These code snippets use an open-source library. http://unirest.io/python\n",
    "response = requests.get(\"https://text-classification.p.mashape.com/class-1.1.php?categories=0800&model=IPTC_en&of=json&txt=The+85th+Academy+Awards+ceremony+took+place+February+24%2C+2013.&verbose=n\",\n",
    "  headers={\n",
    "    \"X-Mashape-Key\": key,\n",
    "    \"Accept\": \"application/json\"\n",
    "  }\n",
    ")"
   ]
  },
  {
   "cell_type": "code",
   "execution_count": 23,
   "metadata": {},
   "outputs": [
    {
     "data": {
      "text/plain": [
       "<Response [200]>"
      ]
     },
     "execution_count": 23,
     "metadata": {},
     "output_type": "execute_result"
    }
   ],
   "source": [
    "response"
   ]
  },
  {
   "cell_type": "code",
   "execution_count": 24,
   "metadata": {},
   "outputs": [
    {
     "data": {
      "text/plain": [
       "'{\"status\":{\"code\":\"0\",\"msg\":\"OK\",\"credits\":\"1\",\"remaining_credits\":\"604448\"},\"category_list\":[]}'"
      ]
     },
     "execution_count": 24,
     "metadata": {},
     "output_type": "execute_result"
    }
   ],
   "source": [
    "response.text"
   ]
  },
  {
   "cell_type": "code",
   "execution_count": null,
   "metadata": {},
   "outputs": [],
   "source": [
    "response = requests.post(\"https://community-sentiment.p.mashape.com/text/\",\n",
    "  headers={\n",
    "    \"X-Mashape-Key\": \"5OFxzccfIQmshkk5WFBRSRKKM9IOp1sDIlEjsnTMW4ZHMFJc33\",\n",
    "    \"Content-Type\": \"application/x-www-form-urlencoded\",\n",
    "    \"Accept\": \"application/json\"\n",
    "  },\n",
    "  params={\n",
    "    \"txt\": \"Today is  a good day\"\n",
    "  }\n",
    ")\n"
   ]
  },
  {
   "cell_type": "code",
   "execution_count": null,
   "metadata": {},
   "outputs": [],
   "source": []
  },
  {
   "cell_type": "code",
   "execution_count": null,
   "metadata": {},
   "outputs": [],
   "source": []
  },
  {
   "cell_type": "code",
   "execution_count": null,
   "metadata": {},
   "outputs": [],
   "source": []
  },
  {
   "cell_type": "code",
   "execution_count": null,
   "metadata": {},
   "outputs": [],
   "source": []
  },
  {
   "cell_type": "markdown",
   "metadata": {},
   "source": [
    "## Summarization"
   ]
  },
  {
   "cell_type": "code",
   "execution_count": 32,
   "metadata": {},
   "outputs": [],
   "source": [
    "url = \"https://aylien-text.p.mashape.com/summarize\"\n",
    "params = {'text': text,\n",
    "          'title': 'Title'}"
   ]
  },
  {
   "cell_type": "code",
   "execution_count": 33,
   "metadata": {},
   "outputs": [],
   "source": [
    "import requests\n",
    "\n",
    "response = requests.get(url,\n",
    "  headers={\n",
    "    \"X-Mashape-Key\": key2,\n",
    "    \"Accept\": \"application/json\"\n",
    "  },\n",
    "  params=params\n",
    ")"
   ]
  },
  {
   "cell_type": "code",
   "execution_count": 34,
   "metadata": {},
   "outputs": [
    {
     "data": {
      "text/plain": [
       "200"
      ]
     },
     "execution_count": 34,
     "metadata": {},
     "output_type": "execute_result"
    }
   ],
   "source": [
    "response.status_code"
   ]
  },
  {
   "cell_type": "code",
   "execution_count": 35,
   "metadata": {},
   "outputs": [
    {
     "data": {
      "text/plain": [
       "{'sentences': ['Ediacaran paleomagnetic data from Laurentia are complex,with inclinations of presumed primary remanences that differ by up to 90 degrees or more, often within single geological units.',\n",
       "  'These unusual data havebeen variously interpreted as due to magnetic overprinting, very rapidcontinental drift, one or more episodes of oscillatory ~90 degrees  true polarwander (TPW), or unusual behaviour of the geomagnetic field such as anequatorial dipole.',\n",
       "  'In addition, the paleomagnetic data do not always conform to anequatorial dipole model in which paleopoles should differ by 90 degrees .',\n",
       "  'Unlike Laurentia units, individual units of WestAvalonia usually carry a single presumed primary remanence direction (ofdual polarity), rather than two discrete remanence directions or directionsthat are streaked along a great circle that might record rapid TPW.',\n",
       "  'Taken together, the Ediacaran Laurentia andAvalonia data do not appear consistent with current models of oscillatoryTPW, an equatorial dipole or unusually fast drift.'],\n",
       " 'text': 'Ediacaran paleomagnetic data from Laurentia are complex,with inclinations of presumed primary remanences that differ by up to 90 degrees or more, often within single geological units. These unusual data havebeen variously interpreted as due to magnetic overprinting, very rapidcontinental drift, one or more episodes of oscillatory ~90 degrees  true polarwander (TPW), or unusual behaviour of the geomagnetic field such as anequatorial dipole. Here we review the Laurentia data in the 615-565 Maperiod. The ages assigned to steep and normal components, if they areprimary, appear to require at least two full oscillations during the period inquestion. There is growing evidence (especially from the Grenville andRideau dyke swarms for which 9 precise U-Pb baddeleyite ages are nowavailable) indicating that the magnetic directional changes are much toorapid to accommodate either rapid drift or TPW (using current theoreticalmodels). In addition, the paleomagnetic data do not always conform to anequatorial dipole model in which paleopoles should differ by 90 degrees . We alsoreview the paleomagnetic data from well-dated (606-570 Ma) Ediacaranunits of the West Avalonia microcontinent, which appear to be simplerthan those from Laurentia. Unlike Laurentia units, individual units of WestAvalonia usually carry a single presumed primary remanence direction (ofdual polarity), rather than two discrete remanence directions or directionsthat are streaked along a great circle that might record rapid TPW. Largedirectional (mainly declination) changes between units are usuallyinterpreted as due to block rotations, but alternatively could reflect TPWor unusual behaviour of the magnetic field. However, the correspondingpaleopole changes are significantly less than the 90⁰ expected for anequatorial dipole model. Taken together, the Ediacaran Laurentia andAvalonia data do not appear consistent with current models of oscillatoryTPW, an equatorial dipole or unusually fast drift.'}"
      ]
     },
     "execution_count": 35,
     "metadata": {},
     "output_type": "execute_result"
    }
   ],
   "source": [
    "response.json()"
   ]
  },
  {
   "cell_type": "markdown",
   "metadata": {},
   "source": [
    "## Readability metrics"
   ]
  },
  {
   "cell_type": "code",
   "execution_count": 18,
   "metadata": {},
   "outputs": [],
   "source": [
    "url = \"https://ipeirotis-readability-metrics.p.mashape.com/getReadabilityMetrics\"\n",
    "params = {'text': text}\n",
    "headers = {\"X-Mashape-Key\": key,  # Your private Mashape key\n",
    "           \"Content-Type\": \"application/x-www-form-urlencoded\",\n",
    "           \"Accept\": \"application/json\"\n",
    "          }"
   ]
  },
  {
   "cell_type": "code",
   "execution_count": 19,
   "metadata": {},
   "outputs": [],
   "source": [
    "response = requests.post(url, headers=headers, params=params)"
   ]
  },
  {
   "cell_type": "code",
   "execution_count": 25,
   "metadata": {},
   "outputs": [
    {
     "name": "stdout",
     "output_type": "stream",
     "text": [
      "{\n",
      " \"COLEMAN_LIAU\": 18.670,\n",
      " \"FLESCH_READING\": -3.637,\n",
      " \"SYLLABLES\": 596.000,\n",
      " \"SMOG_INDEX\": 18.045,\n",
      " \"SMOG\": 18.821,\n",
      " \"GUNNING_FOG\": 21.600,\n",
      " \"WORDS\": 272.000,\n",
      " \"CHARACTERS\": 1638.000,\n",
      " \"FLESCH_KINCAID\": 19.910,\n",
      " \"ARI\": 19.298,\n",
      " \"COMPLEXWORDS\": 83.000,\n",
      " \"SENTENCES\": 11.000\n",
      "}\n"
     ]
    }
   ],
   "source": [
    "print(response.text)"
   ]
  },
  {
   "cell_type": "markdown",
   "metadata": {},
   "source": [
    "## Sentence case"
   ]
  },
  {
   "cell_type": "code",
   "execution_count": 30,
   "metadata": {},
   "outputs": [],
   "source": [
    "title = \"Ediacaran Paleomagnetism of Well-dated Units in Laurentia and West Avalonia: Implications for Models of Oscillatory True Polar Wander, Equatorial Dipoles and Rapid Continental Drift\"\n",
    "\n",
    "url = \"https://sprawkcapitalizer.p.mashape.com/api/applyCaps\"\n",
    "params = {'text': title,\n",
    "          'lang': 'autoDetect',\n",
    "          'mode': 'sentence'}\n",
    "headers = {\"X-Mashape-Key\": key,  # Your private Mashape key\n",
    "           \"Accept\": \"text/plain\"\n",
    "          }\n",
    "\n",
    "response = requests.post(url, headers=headers, params=params)"
   ]
  },
  {
   "cell_type": "code",
   "execution_count": 31,
   "metadata": {},
   "outputs": [
    {
     "data": {
      "text/plain": [
       "<Response [404]>"
      ]
     },
     "execution_count": 31,
     "metadata": {},
     "output_type": "execute_result"
    }
   ],
   "source": [
    "response"
   ]
  },
  {
   "cell_type": "markdown",
   "metadata": {},
   "source": [
    "Almost but not quite."
   ]
  },
  {
   "cell_type": "code",
   "execution_count": 32,
   "metadata": {},
   "outputs": [],
   "source": [
    "title = \"Giant Dinosaurs Found in Utah at Smith's Canyon\"\n",
    "params = {'text': title,\n",
    "          'lang': 'autoDetect',\n",
    "          'mode': 'sentence'}\n",
    "response = requests.post(url, headers=headers, params=params)"
   ]
  },
  {
   "cell_type": "code",
   "execution_count": 34,
   "metadata": {},
   "outputs": [
    {
     "data": {
      "text/plain": [
       "<Response [404]>"
      ]
     },
     "execution_count": 34,
     "metadata": {},
     "output_type": "execute_result"
    }
   ],
   "source": [
    "response"
   ]
  },
  {
   "cell_type": "markdown",
   "metadata": {},
   "source": [
    "That is actually pretty awesome."
   ]
  },
  {
   "cell_type": "markdown",
   "metadata": {},
   "source": [
    "## Key noun phrase extraction"
   ]
  },
  {
   "cell_type": "code",
   "execution_count": 36,
   "metadata": {},
   "outputs": [],
   "source": [
    "url = \"https://textanalysis.p.mashape.com/textblob-noun-phrase-extraction\"\n",
    "params = {'text': text}\n",
    "headers = {\"X-Mashape-Key\": key,  # Your private Mashape key\n",
    "           \"Content-Type\": \"application/x-www-form-urlencoded\",\n",
    "           \"Accept\": \"application/json\"\n",
    "          }\n",
    "\n",
    "response = requests.post(url, headers=headers, params=params)"
   ]
  },
  {
   "cell_type": "code",
   "execution_count": 38,
   "metadata": {},
   "outputs": [
    {
     "data": {
      "text/plain": [
       "<Response [502]>"
      ]
     },
     "execution_count": 38,
     "metadata": {},
     "output_type": "execute_result"
    }
   ],
   "source": [
    "response"
   ]
  },
  {
   "cell_type": "markdown",
   "metadata": {},
   "source": [
    "This next one needs fewer than 1000 characters. Let's just work on the first sentence (183 chars)."
   ]
  },
  {
   "cell_type": "code",
   "execution_count": 42,
   "metadata": {},
   "outputs": [
    {
     "data": {
      "text/plain": [
       "'Ediacaran paleomagnetic data from Laurentia are complex,with inclinations of presumed primary remanences that differ by up to 90 degrees or more, often within single geological units.'"
      ]
     },
     "execution_count": 42,
     "metadata": {},
     "output_type": "execute_result"
    }
   ],
   "source": [
    "text[:183]"
   ]
  },
  {
   "cell_type": "code",
   "execution_count": 43,
   "metadata": {
    "scrolled": true
   },
   "outputs": [
    {
     "data": {
      "text/plain": [
       "{u'CARDINAL': [u'90 degrees'],\n",
       " u'DURATION': [u'geological units'],\n",
       " u'GPE': [u'Ediacaran', u'Laurentia'],\n",
       " u'LOCATION': [u'Ediacaran'],\n",
       " u'MEASURE': [u'complex', u'primary'],\n",
       " u'NP': [u'90 degrees',\n",
       "  u'Laurentia',\n",
       "  u'inclinations',\n",
       "  u'more',\n",
       "  u'paleomagnetic data',\n",
       "  u'presumed primary remanences',\n",
       "  u'primary remanences',\n",
       "  u'single geological units',\n",
       "  u'that'],\n",
       " u'PERSON': [u'more'],\n",
       " u'PP': [u'by', u'from', u'of', u'to', u'with', u'within'],\n",
       " u'VP': [u'Ediacaran', u'are', u'differ']}"
      ]
     },
     "execution_count": 43,
     "metadata": {},
     "output_type": "execute_result"
    }
   ],
   "source": [
    "#url = \"https://japerk-text-processing.p.mashape.com/tag/\"\n",
    "url = \"https://japerk-text-processing.p.mashape.com/phrases/\"\n",
    "params = {'text': text[:183]}\n",
    "headers = {\"X-Mashape-Key\": key,  # Your private Mashape key\n",
    "           \"Content-Type\": \"application/x-www-form-urlencoded\",\n",
    "           \"Accept\": \"application/json\"\n",
    "          }\n",
    "\n",
    "response = unirest.post(url, headers=headers, params=params)\n",
    "response.body"
   ]
  },
  {
   "cell_type": "markdown",
   "metadata": {},
   "source": [
    "## Parts-of-speech tagging"
   ]
  },
  {
   "cell_type": "code",
   "execution_count": 40,
   "metadata": {},
   "outputs": [],
   "source": [
    "url = \"https://textanalysis.p.mashape.com/mbsp-pos-tagging\"\n",
    "params = {'text': text}\n",
    "headers = {\"X-Mashape-Key\": key,  # Your private Mashape key\n",
    "           \"Content-Type\": \"application/x-www-form-urlencoded\",\n",
    "           \"Accept\": \"application/json\"\n",
    "          }\n",
    "\n",
    "response = requests.post(url, headers=headers, params=params)\n"
   ]
  },
  {
   "cell_type": "code",
   "execution_count": 41,
   "metadata": {},
   "outputs": [
    {
     "data": {
      "text/plain": [
       "<Response [502]>"
      ]
     },
     "execution_count": 41,
     "metadata": {},
     "output_type": "execute_result"
    }
   ],
   "source": [
    "response"
   ]
  },
  {
   "cell_type": "markdown",
   "metadata": {},
   "source": [
    "<img src=\"https://dl.dropboxusercontent.com/u/14965965/MBSP_POS.png\" />"
   ]
  },
  {
   "cell_type": "markdown",
   "metadata": {},
   "source": [
    "Chunk tagging might be more useful for cuttings descriptions:"
   ]
  },
  {
   "cell_type": "code",
   "execution_count": 42,
   "metadata": {},
   "outputs": [
    {
     "data": {
      "text/plain": [
       "'<html>\\r\\n<head><title>502 Bad Gateway</title></head>\\r\\n<body bgcolor=\"white\">\\r\\n<center><h1>502 Bad Gateway</h1></center>\\r\\n<hr><center>nginx</center>\\r\\n</body>\\r\\n</html>\\r\\n'"
      ]
     },
     "execution_count": 42,
     "metadata": {},
     "output_type": "execute_result"
    }
   ],
   "source": [
    "url = \"https://textanalysis.p.mashape.com/mbsp-chunk\"\n",
    "params = {'text': text}\n",
    "headers = {\"X-Mashape-Key\": key,  # Your private Mashape key\n",
    "           \"Content-Type\": \"application/x-www-form-urlencoded\",\n",
    "           \"Accept\": \"application/json\"\n",
    "          }\n",
    "\n",
    "response = requests.post(url, headers=headers, params=params)\n",
    "response.text"
   ]
  },
  {
   "cell_type": "markdown",
   "metadata": {},
   "source": [
    "To make sense of this, see '''Chunk tags''' on [this help page](http://www.clips.ua.ac.be/pages/mbsp-tags)."
   ]
  },
  {
   "cell_type": "markdown",
   "metadata": {
    "collapsed": true
   },
   "source": [
    "## Syntax highlighting in HTML"
   ]
  },
  {
   "cell_type": "code",
   "execution_count": 43,
   "metadata": {},
   "outputs": [
    {
     "data": {
      "text/html": [
       "<div class=\"python\" style=\"font-family:monospace;\"><span style=\"color: #808080; font-style: italic;\"># Set up the request.</span><br />\n",
       "url <span style=\"color: #66cc66;\">=</span> <span style=\"color: #483d8b;\">&quot;https://neutrinoapi-code-highlight.p.mashape.com/code-highlight&quot;</span><br />\n",
       "params <span style=\"color: #66cc66;\">=</span> <span style=\"color: black;\">&#123;</span><span style=\"color: #483d8b;\">'content'</span>: some_pie<span style=\"color: #66cc66;\">,</span><br />\n",
       "&nbsp; &nbsp; &nbsp; &nbsp; &nbsp; <span style=\"color: #483d8b;\">'type'</span>: <span style=\"color: #483d8b;\">'Python'</span><span style=\"color: black;\">&#125;</span><br />\n",
       "headers <span style=\"color: #66cc66;\">=</span> <span style=\"color: black;\">&#123;</span><span style=\"color: #483d8b;\">&quot;X-Mashape-Key&quot;</span>: key<span style=\"color: #66cc66;\">,</span> &nbsp;<span style=\"color: #808080; font-style: italic;\"># Your private Mashape key</span><br />\n",
       "&nbsp; &nbsp; &nbsp; &nbsp; &nbsp; &nbsp;<span style=\"color: #483d8b;\">&quot;Content-Type&quot;</span>: <span style=\"color: #483d8b;\">&quot;application/x-www-form-urlencoded&quot;</span><span style=\"color: #66cc66;\">,</span><br />\n",
       "&nbsp; &nbsp; &nbsp; &nbsp; &nbsp; &nbsp;<span style=\"color: #483d8b;\">&quot;Accept&quot;</span>: <span style=\"color: #483d8b;\">&quot;application/json&quot;</span><br />\n",
       "&nbsp; &nbsp; &nbsp; &nbsp; &nbsp; <span style=\"color: black;\">&#125;</span><br />\n",
       "<br />\n",
       "<span style=\"color: #808080; font-style: italic;\"># Make the request.</span><br />\n",
       "response <span style=\"color: #66cc66;\">=</span> unirest.<span style=\"color: black;\">post</span><span style=\"color: black;\">&#40;</span>url<span style=\"color: #66cc66;\">,</span> headers<span style=\"color: #66cc66;\">=</span>headers<span style=\"color: #66cc66;\">,</span> params<span style=\"color: #66cc66;\">=</span>params<span style=\"color: black;\">&#41;</span><br />\n",
       "<br />\n",
       "<span style=\"color: #808080; font-style: italic;\"># Look at what we got.</span><br />\n",
       "<span style=\"color: #ff7700;font-weight:bold;\">from</span> IPython.<span style=\"color: black;\">display</span> <span style=\"color: #ff7700;font-weight:bold;\">import</span> HTML<br />\n",
       "HTML<span style=\"color: black;\">&#40;</span>response.<span style=\"color: black;\">body</span><span style=\"color: black;\">&#41;</span></div>\n"
      ],
      "text/plain": [
       "<IPython.core.display.HTML object>"
      ]
     },
     "execution_count": 43,
     "metadata": {},
     "output_type": "execute_result"
    }
   ],
   "source": [
    "some_pie = \"\"\"# Set up the request.\n",
    "url = \"https://neutrinoapi-code-highlight.p.mashape.com/code-highlight\"\n",
    "params = {'content': some_pie,\n",
    "          'type': 'Python'}\n",
    "headers = {\"X-Mashape-Key\": key,  # Your private Mashape key\n",
    "           \"Content-Type\": \"application/x-www-form-urlencoded\",\n",
    "           \"Accept\": \"application/json\"\n",
    "          }\n",
    "\n",
    "# Make the request.\n",
    "response = unirest.post(url, headers=headers, params=params)\n",
    "\n",
    "# Look at what we got.\n",
    "from IPython.display import HTML\n",
    "HTML(response.body)\"\"\"\n",
    "\n",
    "# Set up the request.\n",
    "url = \"https://neutrinoapi-code-highlight.p.mashape.com/code-highlight\"\n",
    "params = {'content': some_pie,\n",
    "          'type': 'Python'}\n",
    "headers = {\"X-Mashape-Key\": key,  # Your private Mashape key\n",
    "           \"Content-Type\": \"application/x-www-form-urlencoded\",\n",
    "           \"Accept\": \"application/json\"\n",
    "          }\n",
    "\n",
    "# Make the request.\n",
    "response = requests.post(url, headers=headers, params=params)\n",
    "\n",
    "# Look at what we got.\n",
    "from IPython.display import HTML\n",
    "HTML(response.text)"
   ]
  },
  {
   "cell_type": "code",
   "execution_count": null,
   "metadata": {
    "collapsed": true
   },
   "outputs": [],
   "source": []
  }
 ],
 "metadata": {
  "anaconda-cloud": {},
  "kernelspec": {
   "display_name": "geocomp",
   "language": "python",
   "name": "geocomp"
  },
  "language_info": {
   "codemirror_mode": {
    "name": "ipython",
    "version": 3
   },
   "file_extension": ".py",
   "mimetype": "text/x-python",
   "name": "python",
   "nbconvert_exporter": "python",
   "pygments_lexer": "ipython3",
   "version": "3.6.4"
  }
 },
 "nbformat": 4,
 "nbformat_minor": 1
}
