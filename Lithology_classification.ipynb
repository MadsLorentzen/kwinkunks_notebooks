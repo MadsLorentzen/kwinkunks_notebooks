{
 "metadata": {
  "name": "",
  "signature": "sha256:8fa9be38ceab22693f4b947a1e077f21ac5dfb3f50b92b5a3e1db897d936d325"
 },
 "nbformat": 3,
 "nbformat_minor": 0,
 "worksheets": [
  {
   "cells": [
    {
     "cell_type": "heading",
     "level": 1,
     "metadata": {},
     "source": [
      "Lithology classification from images"
     ]
    },
    {
     "cell_type": "markdown",
     "metadata": {},
     "source": [
      "Can we extract text from images using Tesseract, then process that text for lithological data? "
     ]
    },
    {
     "cell_type": "markdown",
     "metadata": {},
     "source": [
      "<img src=\"Samples.png\" />"
     ]
    },
    {
     "cell_type": "code",
     "collapsed": false,
     "input": [
      "from PIL import Image"
     ],
     "language": "python",
     "metadata": {},
     "outputs": [],
     "prompt_number": 1
    },
    {
     "cell_type": "code",
     "collapsed": false,
     "input": [
      "import pyocr\n",
      "import pyocr.builders"
     ],
     "language": "python",
     "metadata": {},
     "outputs": [],
     "prompt_number": 2
    },
    {
     "cell_type": "code",
     "collapsed": false,
     "input": [
      "tools = pyocr.get_available_tools()"
     ],
     "language": "python",
     "metadata": {},
     "outputs": [],
     "prompt_number": 3
    },
    {
     "cell_type": "code",
     "collapsed": false,
     "input": [
      "tool = tools[0]"
     ],
     "language": "python",
     "metadata": {},
     "outputs": [],
     "prompt_number": 4
    },
    {
     "cell_type": "code",
     "collapsed": false,
     "input": [
      "tool.get_available_languages()"
     ],
     "language": "python",
     "metadata": {},
     "outputs": [
      {
       "metadata": {},
       "output_type": "pyout",
       "prompt_number": 5,
       "text": [
        "['eng']"
       ]
      }
     ],
     "prompt_number": 5
    },
    {
     "cell_type": "code",
     "collapsed": false,
     "input": [
      "text = tool.image_to_string(Image.open('Samples.png'), builder=pyocr.builders.TextBuilder())"
     ],
     "language": "python",
     "metadata": {},
     "outputs": [],
     "prompt_number": 6
    },
    {
     "cell_type": "code",
     "collapsed": false,
     "input": [
      "print text"
     ],
     "language": "python",
     "metadata": {},
     "outputs": [
      {
       "output_type": "stream",
       "stream": "stdout",
       "text": [
        "0.0 m\n",
        "\n",
        "15.0 m\n",
        "\n",
        "30.0 m\n",
        "\n",
        "75.0 In\n",
        "\n",
        "80.0 m\n",
        "\n",
        "85.0 m ~\n",
        "\n",
        "15.0 m\n",
        "\n",
        "30.0\n",
        "\n",
        "75.0\n",
        "\n",
        "80.0\n",
        "\n",
        "85.0\n",
        "\n",
        "90.0 m\n",
        "\n",
        "SAMPLE AND CORE DESCRIPTIONS\n",
        "\n",
        "Chevron Irving Bras d\u20190r #Z\n",
        "B! A. Berti\n",
        "\n",
        "No samples.\n",
        "\n",
        "Drift, subangular to subroundad small pebbles of\n",
        "quartz, granite, metesediment, ett.\n",
        "\n",
        "No samples .\n",
        "\n",
        "Fractured anhydrite and dolomite in more or less\n",
        "equal amounts, fractures 2-3 mm apart, <l mm\n",
        "wide, healed with nnhydrite and/nr gypsum; lOZ of\n",
        "sample is white to milky-white gypsum; anhydrite\n",
        "l#him to light grey microcrystslline to medium\n",
        "grained, dolomite, light grey-brown to brown,\n",
        "earthy to finely crystalline, trace ZZ porosity,\n",
        "no fluorescence.\n",
        "\n",
        "Fractured anhydrite and dolomite as above with\n",
        "about 102 gypsum in sample; crate smell, nan-ew\n",
        "black arte-ks in dolomite (Totganic or bitumen).\n",
        "\n",
        "Anhydrite, white to light tu medium brown with\n",
        "irregular stringera dolomite .tattered throughout\n",
        "rather than fractured as above, dolomite, light\n",
        "brown, miorocryatalline, trato porosity.\n"
       ]
      }
     ],
     "prompt_number": 8
    },
    {
     "cell_type": "code",
     "collapsed": false,
     "input": [],
     "language": "python",
     "metadata": {},
     "outputs": []
    }
   ],
   "metadata": {}
  }
 ]
}