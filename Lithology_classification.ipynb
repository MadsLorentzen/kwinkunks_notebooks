{
 "metadata": {
  "name": "",
  "signature": "sha256:7368ec44e0fdcb61e88668054af336d3ff21024e038838b22282bf2ec743f3da"
 },
 "nbformat": 3,
 "nbformat_minor": 0,
 "worksheets": [
  {
   "cells": [
    {
     "cell_type": "heading",
     "level": 1,
     "metadata": {},
     "source": [
      "Lithology classification from images"
     ]
    },
    {
     "cell_type": "markdown",
     "metadata": {},
     "source": [
      "Can we extract text from images using Tesseract, then process that text for lithological data? "
     ]
    },
    {
     "cell_type": "markdown",
     "metadata": {},
     "source": [
      "<img src=\"Samples.png\" />"
     ]
    },
    {
     "cell_type": "markdown",
     "metadata": {},
     "source": [
      "We'll use a Python wrapper for Tesseract. [This library](https://code.google.com/p/python-tesseract/) looks cool but I can't get it to work."
     ]
    },
    {
     "cell_type": "markdown",
     "metadata": {},
     "source": [
      "I also tried a lightweight one, [pytesseract](https://pypi.python.org/pypi/pytesseract), but it failed with an image error. "
     ]
    },
    {
     "cell_type": "markdown",
     "metadata": {},
     "source": [
      "Let's try using [PyOCR](https://github.com/jflesch/pyocr). "
     ]
    },
    {
     "cell_type": "code",
     "collapsed": false,
     "input": [
      "from PIL import Image"
     ],
     "language": "python",
     "metadata": {},
     "outputs": [],
     "prompt_number": 1
    },
    {
     "cell_type": "code",
     "collapsed": false,
     "input": [
      "import pyocr\n",
      "import pyocr.builders"
     ],
     "language": "python",
     "metadata": {},
     "outputs": [],
     "prompt_number": 2
    },
    {
     "cell_type": "code",
     "collapsed": false,
     "input": [
      "tools = pyocr.get_available_tools()"
     ],
     "language": "python",
     "metadata": {},
     "outputs": [],
     "prompt_number": 3
    },
    {
     "cell_type": "code",
     "collapsed": false,
     "input": [
      "tool = tools[0]"
     ],
     "language": "python",
     "metadata": {},
     "outputs": [],
     "prompt_number": 4
    },
    {
     "cell_type": "code",
     "collapsed": false,
     "input": [
      "tool.get_available_languages()"
     ],
     "language": "python",
     "metadata": {},
     "outputs": [
      {
       "metadata": {},
       "output_type": "pyout",
       "prompt_number": 5,
       "text": [
        "['eng']"
       ]
      }
     ],
     "prompt_number": 5
    },
    {
     "cell_type": "code",
     "collapsed": false,
     "input": [
      "text = tool.image_to_string(Image.open('Samples.png'), builder=pyocr.builders.TextBuilder())"
     ],
     "language": "python",
     "metadata": {},
     "outputs": [],
     "prompt_number": 6
    },
    {
     "cell_type": "code",
     "collapsed": false,
     "input": [
      "print text"
     ],
     "language": "python",
     "metadata": {},
     "outputs": [
      {
       "output_type": "stream",
       "stream": "stdout",
       "text": [
        "0.0 m\n",
        "\n",
        "15.0 m\n",
        "\n",
        "30.0 m\n",
        "\n",
        "75.0 In\n",
        "\n",
        "80.0 m\n",
        "\n",
        "85.0 m ~\n",
        "\n",
        "15.0 m\n",
        "\n",
        "30.0\n",
        "\n",
        "75.0\n",
        "\n",
        "80.0\n",
        "\n",
        "85.0\n",
        "\n",
        "90.0 m\n",
        "\n",
        "SAMPLE AND CORE DESCRIPTIONS\n",
        "\n",
        "Chevron Irving Bras d\u20190r #Z\n",
        "B! A. Berti\n",
        "\n",
        "No samples.\n",
        "\n",
        "Drift, subangular to subroundad small pebbles of\n",
        "quartz, granite, metesediment, ett.\n",
        "\n",
        "No samples .\n",
        "\n",
        "Fractured anhydrite and dolomite in more or less\n",
        "equal amounts, fractures 2-3 mm apart, <l mm\n",
        "wide, healed with nnhydrite and/nr gypsum; lOZ of\n",
        "sample is white to milky-white gypsum; anhydrite\n",
        "l#him to light grey microcrystslline to medium\n",
        "grained, dolomite, light grey-brown to brown,\n",
        "earthy to finely crystalline, trace ZZ porosity,\n",
        "no fluorescence.\n",
        "\n",
        "Fractured anhydrite and dolomite as above with\n",
        "about 102 gypsum in sample; crate smell, nan-ew\n",
        "black arte-ks in dolomite (Totganic or bitumen).\n",
        "\n",
        "Anhydrite, white to light tu medium brown with\n",
        "irregular stringera dolomite .tattered throughout\n",
        "rather than fractured as above, dolomite, light\n",
        "brown, miorocryatalline, trato porosity.\n"
       ]
      }
     ],
     "prompt_number": 7
    },
    {
     "cell_type": "markdown",
     "metadata": {},
     "source": [
      "This is the preformance with no training. \n",
      "\n",
      "If training is required, [this might help](https://pypi.python.org/pypi/TesseractTrainer). "
     ]
    },
    {
     "cell_type": "code",
     "collapsed": false,
     "input": [],
     "language": "python",
     "metadata": {},
     "outputs": []
    }
   ],
   "metadata": {}
  }
 ]
}