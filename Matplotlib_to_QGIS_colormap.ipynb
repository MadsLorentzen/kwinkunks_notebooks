{
 "cells": [
  {
   "cell_type": "markdown",
   "metadata": {},
   "source": [
    "# Matplotlib cmap to QGIS colorrmap"
   ]
  },
  {
   "cell_type": "code",
   "execution_count": 50,
   "metadata": {},
   "outputs": [],
   "source": [
    "import matplotlib.cm as mpc\n",
    "\n",
    "XML = \"\"\"<!DOCTYPE qgis_style>\n",
    "<qgis_style version=\"0\">\n",
    "  <symbols/>\n",
    "  <colorramps>\n",
    "{0}\n",
    "  </colorramps>\n",
    "</qgis_style>\"\"\"\n",
    "\n",
    "CRAMP = \"\"\"    <colorramp type=\"gradient\" name=\"{name}\">\n",
    "      <prop k=\"color1\" v=\"{color1}\"/>\n",
    "      <prop k=\"color2\" v=\"{color2}\"/>\n",
    "      <prop k=\"stops\" v=\"{stops}\"/>\n",
    "    </colorramp>\"\"\"\n",
    "\n",
    "def get_rgba(name, value):\n",
    "    cmap = mpc.get_cmap(name)\n",
    "    rgba = [str(int(round(255*v, 0))) for v in cmap(value)]\n",
    "    return rgba    \n",
    "\n",
    "def qgis_xml(name):\n",
    "    params = {'name': name}\n",
    "    params['color1'] = ','.join(get_rgba(name, 0.0))\n",
    "    params['color2'] = ','.join(get_rgba(name, 1.0))\n",
    "    stops = []\n",
    "    for v in range(4, 100, 4):\n",
    "        v /= 100\n",
    "        s = f'{v};'\n",
    "        s += ','.join(get_rgba(name, v))\n",
    "        stops.append(s)\n",
    "    params['stops'] = ':'.join(stops)\n",
    "    return CRAMP.format(**params)\n",
    "\n",
    "def mpl2qgis(names):\n",
    "    cramps = '\\n'.join(qgis_xml(name) for name in names)\n",
    "    return XML.format(cramps)"
   ]
  },
  {
   "cell_type": "code",
   "execution_count": 51,
   "metadata": {},
   "outputs": [
    {
     "name": "stdout",
     "output_type": "stream",
     "text": [
      "<!DOCTYPE qgis_style>\n",
      "<qgis_style version=\"0\">\n",
      "  <symbols/>\n",
      "  <colorramps>\n",
      "    <colorramp type=\"gradient\" name=\"viridis\">\n",
      "      <prop k=\"color1\" v=\"68,1,84,255\"/>\n",
      "      <prop k=\"color2\" v=\"253,231,37,255\"/>\n",
      "      <prop k=\"stops\" v=\"0.04;71,16,99,255:0.08;72,29,111,255:0.12;71,42,122,255:0.16;69,55,129,255:0.2;65,68,135,255:0.24;60,79,138,255:0.28;55,90,140,255:0.32;50,100,142,255:0.36;46,111,142,255:0.4;42,120,142,255:0.44;38,130,142,255:0.48;34,139,141,255:0.52;31,149,139,255:0.56;31,159,136,255:0.6;34,168,132,255:0.64;44,177,126,255:0.68;59,187,117,255:0.72;78,195,107,255:0.76;99,203,95,255:0.8;122,209,81,255:0.84;149,216,64,255:0.88;176,221,47,255:0.92;202,225,31,255:0.96;229,228,25,255\"/>\n",
      "    </colorramp>\n",
      "    <colorramp type=\"gradient\" name=\"magma\">\n",
      "      <prop k=\"color1\" v=\"0,0,4,255\"/>\n",
      "      <prop k=\"color2\" v=\"252,253,191,255\"/>\n",
      "      <prop k=\"stops\" v=\"0.04;5,4,22,255:0.08;14,11,43,255:0.12;26,16,66,255:0.16;41,17,90,255:0.2;59,15,112,255:0.24;76,17,122,255:0.28;92,22,127,255:0.32;107,29,129,255:0.36;124,35,130,255:0.4;140,41,129,255:0.44;156,46,127,255:0.48;173,52,124,255:0.52;191,58,119,255:0.56;207,64,112,255:0.6;222,73,104,255:0.64;234,86,97,255:0.68;244,103,92,255:0.72;249,121,93,255:0.76;252,140,99,255:0.8;254,159,109,255:0.84;254,180,123,255:0.88;254,198,138,255:0.92;254,216,154,255:0.96;253,235,172,255\"/>\n",
      "    </colorramp>\n",
      "    <colorramp type=\"gradient\" name=\"bone\">\n",
      "      <prop k=\"color1\" v=\"0,0,0,255\"/>\n",
      "      <prop k=\"color2\" v=\"255,255,255,255\"/>\n",
      "      <prop k=\"stops\" v=\"0.04;9,9,12,255:0.08;18,17,24,255:0.12;26,26,37,255:0.16;35,35,49,255:0.2;45,45,62,255:0.24;53,53,74,255:0.28;62,62,86,255:0.32;71,71,99,255:0.36;80,80,112,255:0.4;89,92,121,255:0.44;98,104,130,255:0.48;107,116,139,255:0.52;116,129,148,255:0.56;125,141,157,255:0.6;134,154,166,255:0.64;143,166,174,255:0.68;152,179,184,255:0.72;161,191,193,255:0.76;172,202,202,255:0.8;185,210,210,255:0.84;200,220,220,255:0.88;214,229,229,255:0.92;228,238,237,255:0.96;241,246,246,255\"/>\n",
      "    </colorramp>\n",
      "  </colorramps>\n",
      "</qgis_style>\n"
     ]
    }
   ],
   "source": [
    "print(mpl2qgis(['viridis','magma','bone']))"
   ]
  },
  {
   "cell_type": "code",
   "execution_count": null,
   "metadata": {},
   "outputs": [],
   "source": []
  },
  {
   "cell_type": "code",
   "execution_count": null,
   "metadata": {},
   "outputs": [],
   "source": []
  }
 ],
 "metadata": {
  "kernelspec": {
   "display_name": "Python 3",
   "language": "python",
   "name": "python3"
  },
  "language_info": {
   "codemirror_mode": {
    "name": "ipython",
    "version": 3
   },
   "file_extension": ".py",
   "mimetype": "text/x-python",
   "name": "python",
   "nbconvert_exporter": "python",
   "pygments_lexer": "ipython3",
   "version": "3.6.8"
  }
 },
 "nbformat": 4,
 "nbformat_minor": 2
}
